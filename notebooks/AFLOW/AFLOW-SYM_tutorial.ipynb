{
 "cells": [
  {
   "cell_type": "markdown",
   "metadata": {},
   "source": [
    "# AFLOW-SYM"
   ]
  },
  {
   "cell_type": "markdown",
   "metadata": {},
   "source": [
    "##### Requirements for this Jupyter notebook:\n",
    "- AFLOW binary (v3.1.225 and higher) in your path\n",
    "- xz compression (included in steps for AFLOW installation)\n",
    "- Python's libraries (used in examples):\n",
    "    - json\n",
    "    - subprocess\n",
    "    - os\n",
    "    - pprint\n",
    "    - numpy"
   ]
  },
  {
   "cell_type": "markdown",
   "metadata": {},
   "source": [
    "### Command line usage"
   ]
  },
  {
   "cell_type": "markdown",
   "metadata": {},
   "source": [
    "#### Generate MgO rocksalt structure"
   ]
  },
  {
   "cell_type": "code",
   "execution_count": null,
   "metadata": {},
   "outputs": [],
   "source": [
    "! aflow --proto=AB_cF8_225_a_b:Mg:O --params=3.5 > MgO.poscar"
   ]
  },
  {
   "cell_type": "markdown",
   "metadata": {},
   "source": [
    "#### Calculate the space group number and standard label"
   ]
  },
  {
   "cell_type": "code",
   "execution_count": null,
   "metadata": {},
   "outputs": [],
   "source": [
    "! aflow --aflowSG < MgO.poscar"
   ]
  },
  {
   "cell_type": "markdown",
   "metadata": {},
   "source": [
    "#### Calculate the Wyckoff positions\n",
    "Wyckoff positions and cell choices are consistent with the International Tables for Crystallography (ITC)\n",
    "\n",
    "![ITC_standard_Wyckoff](images/ITC_standard_Wyckoff.png)"
   ]
  },
  {
   "cell_type": "code",
   "execution_count": null,
   "metadata": {},
   "outputs": [],
   "source": [
    "! aflow --wyccar < MgO.poscar"
   ]
  },
  {
   "cell_type": "markdown",
   "metadata": {},
   "source": [
    "Control the space group setting/cell choice with `--setting=<number>`.\n",
    "Different cell/setting choice exist for: \n",
    "- centrosymmetric space groups with two origin choices (24 space groups, *e.g.*, SG=#227):  \n",
    "    - `--setting=1` : origin centered on high site symmetry (not inversion site) \n",
    "    - `--setting=2` : origin centered on inversion site \n",
    "- rhombohedral space groups (*e.g.*, SG=#166):  \n",
    "    - `--setting=1` : rhombohedral setting  \n",
    "    - `--setting=2` : hexagonal setting \n",
    "- monoclinic space groups (*e.g.*, SG=#5):  \n",
    "    - `--setting=1` : unique axis-b  \n",
    "    - `--setting=2` : unique axis-c "
   ]
  },
  {
   "cell_type": "code",
   "execution_count": null,
   "metadata": {},
   "outputs": [],
   "source": [
    "! aflow --proto=ABC3_hR10_167_a_b_e-002:C:Ca:O | aflow --wyccar --setting=1   # calcite, 1=rhombohedral setting"
   ]
  },
  {
   "cell_type": "code",
   "execution_count": null,
   "metadata": {},
   "outputs": [],
   "source": [
    "! aflow --proto=ABC3_hR10_167_a_b_e-002:C:Ca:O | aflow --wyccar --setting=2   # calcite, 2=hexagonal setting"
   ]
  },
  {
   "cell_type": "markdown",
   "metadata": {},
   "source": [
    "#### Calculate all space group information (space group number/labels, Wyckoff positions, equations for general Wyckoff position, etc.)"
   ]
  },
  {
   "cell_type": "code",
   "execution_count": null,
   "metadata": {},
   "outputs": [],
   "source": [
    "! aflow --sgdata < MgO.poscar"
   ]
  },
  {
   "cell_type": "markdown",
   "metadata": {},
   "source": [
    "#### Determine the standard primitive cell (AFLOW Standard)"
   ]
  },
  {
   "cell_type": "code",
   "execution_count": null,
   "metadata": {},
   "outputs": [],
   "source": [
    "! aflow --sprim < MgO.poscar"
   ]
  },
  {
   "cell_type": "markdown",
   "metadata": {},
   "source": [
    "#### Determine the standard conventional cell (AFLOW Standard)"
   ]
  },
  {
   "cell_type": "code",
   "execution_count": null,
   "metadata": {},
   "outputs": [],
   "source": [
    "! aflow --sconv < MgO.poscar"
   ]
  },
  {
   "cell_type": "markdown",
   "metadata": {},
   "source": [
    "#### Calculate all symmetry descriptions (lattice, crystal, reciprocal lattice, superlattice)"
   ]
  },
  {
   "cell_type": "code",
   "execution_count": null,
   "metadata": {},
   "outputs": [],
   "source": [
    "! aflow --edata < MgO.poscar"
   ]
  },
  {
   "cell_type": "markdown",
   "metadata": {},
   "source": [
    "#### Calculate explicity symmetry operations for the point groups (lattice, crystal, site), factor group, and space group\n",
    "\n",
    "This will return files corresponding to the following symmetry analyses:\n",
    "\n",
    "- Lattice point group : `aflow.pgroup.out`\n",
    "- Crystallographic point group : `aflow.pgroup_xtal.out`\n",
    "- Factor group (unit cell) : `aflow.fgroup.out`\n",
    "- Reciprocal lattice point group : `aflow.pgroupk.out`\n",
    "- Dual of crystallographic point group : `aflow.pgroupk_xtal.out`\n",
    "- Site point group (atom point group) : `aflow_agroup.out`\n",
    "- Space group : `aflow.sgroup.out`"
   ]
  },
  {
   "cell_type": "code",
   "execution_count": null,
   "metadata": {},
   "outputs": [],
   "source": [
    "! aflow --aflowSYM < MgO.poscar"
   ]
  },
  {
   "cell_type": "markdown",
   "metadata": {},
   "source": [
    "Notice that symmetry files were written in this directory, containing a comprehensive set of symmetry representations"
   ]
  },
  {
   "cell_type": "code",
   "execution_count": null,
   "metadata": {},
   "outputs": [],
   "source": [
    "! ls"
   ]
  },
  {
   "cell_type": "markdown",
   "metadata": {},
   "source": [
    "Examine factor group (unit cell) operations : `aflow.fgroup.out` "
   ]
  },
  {
   "cell_type": "code",
   "execution_count": null,
   "metadata": {},
   "outputs": [],
   "source": [
    "! xzcat aflow.fgroup.out.xz"
   ]
  },
  {
   "cell_type": "markdown",
   "metadata": {},
   "source": [
    "#### Adjust the tolerance for the space group analysis `--aflowSG=<tolerance>`\n",
    "Two preset tolerance values are available:\n",
    "- `tight` : (minimum interatomic distance)/100 (default)\n",
    "- `loose` : (minimum interatomic distance)/10\n",
    "\n",
    "A number (in Angstroms) can also be specified.\n",
    "\n",
    "##### Example"
   ]
  },
  {
   "cell_type": "code",
   "execution_count": null,
   "metadata": {},
   "outputs": [],
   "source": [
    "! aflow --proto=A12BC4_cP34_195_2j_ab_2e-001:P:Pr:Ru | aflow --aflowSG=tight"
   ]
  },
  {
   "cell_type": "code",
   "execution_count": null,
   "metadata": {},
   "outputs": [],
   "source": [
    "! aflow --proto=A12BC4_cP34_195_2j_ab_2e-001:P:Pr:Ru | aflow --aflowSG=0.005"
   ]
  },
  {
   "cell_type": "code",
   "execution_count": null,
   "metadata": {},
   "outputs": [],
   "source": [
    "! aflow --proto=A12BC4_cP34_195_2j_ab_2e-001:P:Pr:Ru | aflow --aflowSG=0.001"
   ]
  },
  {
   "cell_type": "markdown",
   "metadata": {},
   "source": [
    "Space groups #195, #200, and #204 are all reasonable classifications via the symmetry subgroup relationships and are consistent with the literature for this prototype (see comments in [aflow.org/CrystalDatabase/A12BC4_cP34_195_2j_ab_2e](http://aflow.org/CrystalDatabase/A12BC4_cP34_195_2j_ab_2e)). \n",
    "\n",
    "The tolerance values can be adjusted for\n",
    "- `--aflowSG`   : space group number/label\n",
    "- `--sgdata`    : full set of space group data\n",
    "- `--edata`     : extended crystallographic data\n",
    "- `--wyccar`    : Wyckoff positions\n",
    "- `--aflowSYM`  : explicit symmetry operations"
   ]
  },
  {
   "cell_type": "markdown",
   "metadata": {},
   "source": [
    "#### Crystal-spin symmetry analysis\n",
    "Spin degree of freedom can break symmetry\n",
    "\n",
    "![crystal_spin_symmetry_example](images/crystal_spin_symmetry_example.png)\n",
    "\n",
    "Note: not the same as magnetic group symmetry (time reversal = spin flip) \n",
    "\n",
    "Add the `--magmom` flag to the command to specify the magnetic moment on each site (same order as geometry file).\n",
    "AFLOW autodetects collinear or non-collinear based on input size.\n",
    "\n",
    "The magnetic moment can be specified explicitly via:\n",
    "- `--magmom=m1,m2,m3,...` : collinear\n",
    "- `--magmom=mx1,my1,mz1,mx2,...` : non-collinear\n",
    "\n",
    "or a VASP INCAR or OUTCAR can be read:\n",
    "- `--magmom=<PATH_TO_INCAR>` : specify path to INCAR file\n",
    "- `--magmom=<PATH_TO_OUTCAR>` : specify path to OUTCAR file\n",
    "\n",
    "##### Example\n",
    "Create an enlarged cell (we will use the standard conventional cell)"
   ]
  },
  {
   "cell_type": "code",
   "execution_count": null,
   "metadata": {},
   "outputs": [],
   "source": [
    "! cat MgO.poscar | aflow --sconv > MgO_sconv.poscar   # first save the structure (use later)\n",
    "! cat MgO_sconv.poscar"
   ]
  },
  {
   "cell_type": "markdown",
   "metadata": {},
   "source": [
    "Space group (no magnetic information)"
   ]
  },
  {
   "cell_type": "code",
   "execution_count": null,
   "metadata": {},
   "outputs": [],
   "source": [
    "! cat MgO_sconv.poscar | aflow --aflowSG"
   ]
  },
  {
   "cell_type": "markdown",
   "metadata": {},
   "source": [
    "Space group (magnetic information)"
   ]
  },
  {
   "cell_type": "code",
   "execution_count": null,
   "metadata": {},
   "outputs": [],
   "source": [
    "! cat MgO_sconv.poscar | aflow --aflowSG --magmom=1.0,-1.0,1.0,-1.0,1.0,-1.0,1.0,-1.0"
   ]
  },
  {
   "cell_type": "markdown",
   "metadata": {},
   "source": [
    "Crystal-spin analysis works for\n",
    "- `--aflowSG`   : space group number/label\n",
    "- `--sgdata`    : full set of space group data\n",
    "- `--edata`     : extended crystallographic data\n",
    "- `--wyccar`    : Wyckoff positions\n",
    "- `--aflowSYM`  : explicit symmetry operations"
   ]
  },
  {
   "cell_type": "markdown",
   "metadata": {},
   "source": [
    "#### Calculate high-symmetry $k$-paths in Brillouin zones (AFLOW Standard)\n",
    "![BZ_kpaths](images/BZ_kpaths.png)"
   ]
  },
  {
   "cell_type": "code",
   "execution_count": null,
   "metadata": {},
   "outputs": [],
   "source": [
    "! aflow --kpath < MgO.poscar"
   ]
  },
  {
   "cell_type": "markdown",
   "metadata": {},
   "source": [
    "#### A comprehensive README for the AFLOW-SYM functionality is available via:"
   ]
  },
  {
   "cell_type": "code",
   "execution_count": null,
   "metadata": {},
   "outputs": [],
   "source": [
    "! aflow --readme=symmetry"
   ]
  },
  {
   "cell_type": "markdown",
   "metadata": {},
   "source": [
    "### Python module\n",
    "\n",
    "To facilitate integration in user workflows, a Python module is available: "
   ]
  },
  {
   "cell_type": "code",
   "execution_count": null,
   "metadata": {},
   "outputs": [],
   "source": [
    "import json\n",
    "import subprocess\n",
    "import os\n",
    "\n",
    "\n",
    "class Symmetry:\n",
    "\n",
    "    def __init__(self, aflow_executable='aflow'):\n",
    "        self.aflow_executable = aflow_executable\n",
    "\n",
    "\n",
    "    def aflow_command(self, cmd):\n",
    "        try:\n",
    "            return subprocess.check_output(\n",
    "                self.aflow_executable + cmd,\n",
    "                shell=True\n",
    "            )\n",
    "        except subprocess.CalledProcessError:\n",
    "            print('Error aflow executable not found at: ' + self.aflow_executable)\n",
    "\n",
    "\n",
    "    def get_symmetry(self, input_file, tol=None, magmoms=None):\n",
    "        fpath = os.path.realpath(input_file.name)\n",
    "        command = ' --aflowSYM'\n",
    "        output = ''\n",
    "\n",
    "\n",
    "        if tol:\n",
    "            command += '=' + str(tol)\n",
    "        if magmoms:\n",
    "            command += ' --magmom=' + magmoms\n",
    "\n",
    "        output = self.aflow_command(\n",
    "            command + ' --print=json --screen_only' + ' < ' + fpath\n",
    "        )\n",
    "        res_json = json.loads(output)\n",
    "        return res_json\n",
    "\n",
    "\n",
    "    def get_edata(self, input_file, tol=None, magmoms=None):\n",
    "        fpath = os.path.realpath(input_file.name)\n",
    "        command = ' --edata'\n",
    "        output = ''\n",
    "\n",
    "\n",
    "        if tol:\n",
    "            command += '=' + str(tol)\n",
    "        if magmoms:\n",
    "            command += ' --magmom=' + magmoms\n",
    "\n",
    "        output = self.aflow_command(\n",
    "            command + ' --print=json' + ' < ' + fpath\n",
    "        )\n",
    "        res_json = json.loads(output)\n",
    "        return res_json\n",
    "    \n",
    "    def get_sgdata(self, input_file, tol=None, magmoms=None):\n",
    "        fpath = os.path.realpath(input_file.name)\n",
    "        command = ' --sgdata'\n",
    "        output = ''\n",
    "\n",
    "\n",
    "        if tol:\n",
    "            command += '=' + str(tol)\n",
    "        if magmoms:\n",
    "            command += ' --magmom=' + magmoms\n",
    "\n",
    "        output = self.aflow_command(\n",
    "            command + ' --print=json' + ' < ' + fpath\n",
    "        )\n",
    "        res_json = json.loads(output)\n",
    "        return res_json"
   ]
  },
  {
   "cell_type": "markdown",
   "metadata": {},
   "source": [
    "### Calculate full set of symmetry descriptions `Symmetry.get_edata`"
   ]
  },
  {
   "cell_type": "code",
   "execution_count": null,
   "metadata": {},
   "outputs": [],
   "source": [
    "#from aflow_sym import Symmetry                 # import Symmetry class via aflow_sym module\n",
    "from pprint import pprint                       # import pretty print (pprint)\n",
    "\n",
    "with open('MgO.poscar', 'r') as input_file:     # open geometry file\n",
    "    sym = Symmetry(aflow_executable='aflow')    # specify path to AFLOW binary\n",
    "    output = sym.get_edata(input_file)          # perform extended crystallographic (--edata) symmetry analysis\n",
    "    pprint(output)                              # pretty print output"
   ]
  },
  {
   "cell_type": "markdown",
   "metadata": {},
   "source": [
    "#### Pearson symbol:"
   ]
  },
  {
   "cell_type": "code",
   "execution_count": null,
   "metadata": {},
   "outputs": [],
   "source": [
    "pprint(output['Pearson_symbol'])"
   ]
  },
  {
   "cell_type": "markdown",
   "metadata": {},
   "source": [
    "#### Space group number, Hermann-Mauguin symbol, Schoenflies symbol"
   ]
  },
  {
   "cell_type": "code",
   "execution_count": null,
   "metadata": {},
   "outputs": [],
   "source": [
    "pprint([output['space_group_number'],output['space_group_Hermann_Mauguin'],output['space_group_Schoenflies']])"
   ]
  },
  {
   "cell_type": "markdown",
   "metadata": {},
   "source": [
    "#### Bravais lattice type"
   ]
  },
  {
   "cell_type": "code",
   "execution_count": null,
   "metadata": {},
   "outputs": [],
   "source": [
    "pprint(output['Bravais_lattice_type'])"
   ]
  },
  {
   "cell_type": "markdown",
   "metadata": {},
   "source": [
    "#### Wyckoff positions (letter, multiplicity, species, position, and site symmetry)"
   ]
  },
  {
   "cell_type": "code",
   "execution_count": null,
   "metadata": {},
   "outputs": [],
   "source": [
    "pprint(output['Wyckoff_positions'])"
   ]
  },
  {
   "cell_type": "markdown",
   "metadata": {},
   "source": [
    "### Explicit symmetry operations for input cell (`Symmetry.get_symmetry`)\n",
    "\n",
    "This will return symmetry objects corresponding to the following symmetry analyses:\n",
    "\n",
    "- Lattice point group : `pgroup`\n",
    "- Crystallographic point group : `pgroup_xtal`\n",
    "- Factor group (unit cell) : `fgroup`\n",
    "- Reciprocal lattice point group : `pgroupk`\n",
    "- Dual of crystallographic point group : `pgroupk_xtal`\n",
    "- Site point group (atom point group) : `agroup`\n",
    "- Space group : `sgroup`"
   ]
  },
  {
   "cell_type": "code",
   "execution_count": null,
   "metadata": {},
   "outputs": [],
   "source": [
    "with open('MgO_sconv.poscar', 'r') as input_file:\n",
    "    sym = Symmetry(aflow_executable='aflow')\n",
    "    output = sym.get_symmetry(input_file)\n",
    "    pprint(output)"
   ]
  },
  {
   "cell_type": "markdown",
   "metadata": {},
   "source": [
    "The JSON response can then be manipulated for use in different workflows. \n",
    "##### Example: "
   ]
  },
  {
   "cell_type": "markdown",
   "metadata": {},
   "source": [
    "Below, we examine the unit cell symmetry operations (`fgroup`). We apply the fractional rotation matrix (`Uf`) and fractional translation (`ftau`) to the fractional position of the atoms. Note: this example uses Python's `numpy` library.\n",
    "\n",
    "We compare the original and transformed positions.  The atom mappings from AFLOW-SYM (`basis_atoms_map`) are used to confirm the rotated positions.\n",
    "\n",
    "First, load the structure as a JSON object (for easy manipulation):"
   ]
  },
  {
   "cell_type": "code",
   "execution_count": null,
   "metadata": {},
   "outputs": [],
   "source": [
    "# convert structure JSON object with AFLOW-SYM module\n",
    "fpath = os.path.realpath('MgO_sconv.poscar')\n",
    "_sym = Symmetry(aflow_executable='aflow')\n",
    "str_output = _sym.aflow_command(' --structure2json' + ' < ' + fpath)\n",
    "str_json = json.loads(str_output)"
   ]
  },
  {
   "cell_type": "code",
   "execution_count": null,
   "metadata": {},
   "outputs": [],
   "source": [
    "import numpy as np                                                  # import numpy library\n",
    "\n",
    "for sym_op in output['fgroup']:                                     # get unit cell symmetry operations\n",
    "    print('Hermann-Mauguin symbol:', sym_op['Hermann_Mauguin'])     # print Hermann-Mauguin symbol\n",
    "    print('fractional rotation matrix:', sym_op['Uf'])              # print fractional rotation matrix\n",
    "    print('fractional translation:', sym_op['ftau'])                # print fractional translation\n",
    "    for i, atom in enumerate(str_json['atoms']):                    # loop over atoms, and apply transformation (matrix and translation) to fractional positions\n",
    "        print('  atom {0} ({1}) - original: {2} | transformed: {3}'.format(i, atom['name'], atom['position'], np.add(np.dot(sym_op['Uf'], atom['position']),sym_op['ftau'])))        \n",
    "    print('atom mappings:', sym_op['basis_atoms_map'])              # print atom mappings from AFLOW-SYM\n",
    "    print('-'*75)                                                   # separator"
   ]
  },
  {
   "cell_type": "markdown",
   "metadata": {},
   "source": [
    "#### Additional information about AFLOW-SYM can be found in the following article:\n",
    "- D. Hicks, C. Oses, R. H. Taylor, E. Gossett, G. Gomez, C. Toher, M. J. Mehl, O. Levy, and S. Curtarolo, AFLOW-SYM: Platform for the complete, automatic and self-consistent symmetry analysis of crystals, Acta Cryst. A74, 184-203 (2018). [doi=10.1107/S2053273318003066](https://doi.org/10.1107/S2053273318003066)"
   ]
  },
  {
   "cell_type": "markdown",
   "metadata": {},
   "source": [
    "### Exercises"
   ]
  },
  {
   "cell_type": "markdown",
   "metadata": {},
   "source": [
    "1. Use AFLOW-SYM to determine the symmetry properties of the structures that you generated for the prototype A_hR1_166_a (`--sgdata` or `--aflowSG`). How do the choice of parameters affect the symmetry of the structure?"
   ]
  },
  {
   "cell_type": "code",
   "execution_count": null,
   "metadata": {},
   "outputs": [],
   "source": [
    "# your commands/code here\n"
   ]
  },
  {
   "cell_type": "markdown",
   "metadata": {},
   "source": [
    "2. Determine the k-paths for one of the A_hR1_166_a structures you generated (`--kpath`)."
   ]
  },
  {
   "cell_type": "code",
   "execution_count": null,
   "metadata": {},
   "outputs": [],
   "source": [
    "# your command here\n",
    "!"
   ]
  },
  {
   "cell_type": "markdown",
   "metadata": {},
   "source": [
    "3. Calculate the extended crystallographic data for one of the A_hR1_166_a structures (`--edata`). Use the command line and/or the Python module."
   ]
  },
  {
   "cell_type": "code",
   "execution_count": null,
   "metadata": {},
   "outputs": [],
   "source": [
    "# your command/code here\n"
   ]
  },
  {
   "cell_type": "markdown",
   "metadata": {},
   "source": [
    "4. Calculate the symmetry operations for one of the A_hR1_166_a structures (`--aflowSYM`). Use the command line and/or the Python module."
   ]
  },
  {
   "cell_type": "code",
   "execution_count": null,
   "metadata": {},
   "outputs": [],
   "source": [
    "# your command/code here\n"
   ]
  },
  {
   "cell_type": "markdown",
   "metadata": {},
   "source": [
    "5. Pick a material in the AFLOW database [aflow.org](http://aflow.org) and visualize some of the symmetry elements on the entry page."
   ]
  }
 ],
 "metadata": {
  "kernelspec": {
   "display_name": "Python 3",
   "language": "python",
   "name": "python3"
  },
  "language_info": {
   "codemirror_mode": {
    "name": "ipython",
    "version": 3
   },
   "file_extension": ".py",
   "mimetype": "text/x-python",
   "name": "python",
   "nbconvert_exporter": "python",
   "pygments_lexer": "ipython3",
   "version": "3.7.4"
  }
 },
 "nbformat": 4,
 "nbformat_minor": 2
}
