{
 "cells": [
  {
   "cell_type": "markdown",
   "metadata": {},
   "source": [
    "## AFLOW.org: database layers\n",
    "\n",
    "![](./images/db_layers.png)"
   ]
  },
  {
   "cell_type": "markdown",
   "metadata": {},
   "source": [
    "## AFLOW REST-API\n",
    "\n",
    "The AFLOW REST-API provides an means to retrieve data by interfacing directly with the database. Resources (e.g. properties, calculation details, files) are accessed via the AFLOW URL (AURL) which has the form:\n",
    "\n",
    "```\n",
    "<server>:AFLOWDATA/<Project_layer>/<set_layer>/<entry>/?<keyword>\n",
    "```\n",
    "\n",
    "Specific properties can be targeted using the keywords in the query string ```?<keyword>```. Below is a list of keywords ordered by type:\n",
    "\n",
    "\n",
    "![](./images/api_keywords.png)"
   ]
  },
  {
   "cell_type": "markdown",
   "metadata": {},
   "source": [
    "### Examples\n",
    "The URL for the formation enthalpy per atom of the ternary Heusler structure T0001.A2BC with composition CU<sub>2</sub>TiZN is:\n",
    "\n",
    "```\n",
    "aflowlib.duke.edu/AFLOWDATA/LIB3_RAW/Cu_pvTi_svZn/T0001.A2BC/?enthalpy_formation_atom\n",
    "```\n",
    "\n",
    "While the full list of entries in the set Cu-Ti-ZN can be retrieved using:\n",
    "\n",
    "```\n",
    "aflowlib.duke.edu/AFLOWDATA/LIB3_RAW/Cu_pvTi_svZn/?aflowlib_entries \n",
    "```"
   ]
  },
  {
   "cell_type": "code",
   "execution_count": null,
   "metadata": {},
   "outputs": [],
   "source": [
    "\"\"\"\n",
    "    Example python script to fetch the space groups from the API for the CuTiZn alloy system.\n",
    "\"\"\"\n",
    "import json\n",
    "from urllib.request import urlopen\n",
    "\n",
    "SERVER = 'http://aflowlib.duke.edu/AFLOWDATA'\n",
    "PROJECT = '/LIB3_RAW' # Project: Ternary alloys\n",
    "SET = '/Cu_pvTi_svZn' # Set: CuTiZn alloy system\n",
    "ENTRIES = '/?aflowlib_entries' # Keyword: List of entries in this alloy system\n",
    "\n",
    "response = urlopen(SERVER+PROJECT+SET+ENTRIES).read().decode('utf-8') # Download list of entries with urlopen\n",
    "entry_list = response.rstrip().split(',') # parse response body into a list\n",
    "\n",
    "# Loop through entry list and fetch the spacegroup_relax for each entry\n",
    "for entry in entry_list:\n",
    "    entry_sg_url = SERVER + PROJECT + SET + '/' + entry + '/?spacegroup_relax' # spacegroup relax URL\n",
    "    entry_sg = urlopen(entry_sg_url).read().decode('utf-8') # fetch spacegroup with urlopen\n",
    "    print('{0:<12}   {1:>4}'.format(entry + \":\", entry_sg))"
   ]
  },
  {
   "cell_type": "markdown",
   "metadata": {},
   "source": [
    "### REST-API Exercises\n",
    "\n",
    "1. Use the AFLOW REST-API to download the formation enthalpies for all of the entries in the ternary alloy system AlNiTi: set layer “AlNi_pvTi_sv”."
   ]
  },
  {
   "cell_type": "code",
   "execution_count": null,
   "metadata": {},
   "outputs": [],
   "source": []
  },
  {
   "cell_type": "markdown",
   "metadata": {},
   "source": [
    "2. Use the AFLOW REST-API to download the full list of binary alloy systems that are available in the LIB2 project. How many alloys systems are available for download? (AURL: aflowlib.duke.edu:AFLOWDATA/LIB2_RAW/?aflowlib_entries)"
   ]
  },
  {
   "cell_type": "code",
   "execution_count": null,
   "metadata": {},
   "outputs": [],
   "source": []
  },
  {
   "cell_type": "markdown",
   "metadata": {},
   "source": [
    "3. Use the AFLOW REST-API to download the stoichiometries and space groups for all entries in an alloy system of your choice. How many entries are present in this system?"
   ]
  },
  {
   "cell_type": "code",
   "execution_count": null,
   "metadata": {},
   "outputs": [],
   "source": []
  },
  {
   "cell_type": "markdown",
   "metadata": {},
   "source": [
    "## AFLUX: AFLOW Search-API\n",
    "\n",
    "**Aim:** Programatically expose the same functionality as our web search interface at http://aflow.org/advanced.php\n",
    "\n",
    "- AFLUX enables search through the query string of the URL ```?<operator>``` by exposing several logical operators.\n",
    "- Operators can be inter-property and/or intra-property.\n",
    "\n",
    "### List of logical operators and AFLUX syntax\n",
    "|Logical operator |      AFLUX syntax          |        Operator             |\n",
    "| --------------  |:--------------------------:| ---------------------------:|\n",
    "| ```<block>```   |    ```(``` and ```)```     |  Intra- and inter-property  |\n",
    "| ```<AND>```     |          ```,```           |  Intra- and inter-property  |\n",
    "| ```<OR>```      |          ```:```           |  Intra- and inter-property  |\n",
    "| ```<NOT>```     |          ```!```           |       Intra-property        |\n",
    "| ```<loose>```   |          ```*```           |       Intra-property        |\n",
    "| ```<string>```  |          ```'```           |       Inter-property        |\n",
    "| ```<mute>```    |          ```$```           |       Intra-property        |\n",
    "\n",
    "- In AFLUX, operators are used to create a query. In our terminology a query is comprised of a **matchbook** and **directives**.\n",
    "\n",
    "![](./images/AFLUX_URL.png)\n",
    "\n",
    "### Matchbook:\n",
    "- Materials keywords with arguments: ```<server>?species((Na:K),Cl),nspecies(2),Egap(1*,*5),energy_cell```.\n",
    "\n",
    "### Directives:\n",
    "- Used for formatting, moving between layers (catalog) and pagination.\n",
    "- **format** takes args ```\"json\"``` and ```\"html\"```.\n",
    "- **catalog** takes args ```\"icsd\"```, ```\"lib1\"```, ```\"lib2\"```, ...\n",
    "- **paging** controls page, number of entries for page and sorting. By default entries are sorted in ascending order of first materials keyword. Order can be reversed by using a negative page number.\n"
   ]
  },
  {
   "cell_type": "markdown",
   "metadata": {},
   "source": [
    "## AFLUX: examples"
   ]
  },
  {
   "cell_type": "code",
   "execution_count": null,
   "metadata": {},
   "outputs": [],
   "source": [
    "\"\"\"\n",
    "    Help text.\n",
    "\"\"\"\n",
    "from urllib.request import urlopen\n",
    "\n",
    "helptext = urlopen('http://aflowlib.duke.edu/search/API/?').read().decode('utf-8')\n",
    "print(helptext)"
   ]
  },
  {
   "cell_type": "code",
   "execution_count": null,
   "metadata": {},
   "outputs": [],
   "source": [
    "\"\"\"\n",
    "    List of matchbook keywords.\n",
    "\"\"\"\n",
    "import json\n",
    "from urllib.request import urlopen\n",
    "from pprint import pprint\n",
    "\n",
    "schema = urlopen('http://aflowlib.duke.edu/search/API/?schema,format(json)').read().decode('utf-8')\n",
    "schema_json = json.loads(schema)\n",
    "pprint(schema_json)"
   ]
  },
  {
   "cell_type": "code",
   "execution_count": null,
   "metadata": {},
   "outputs": [],
   "source": [
    "\"\"\"\n",
    "    Get all entries with an electronic band gap of 0.6 eV with a tolerance of +/- 0.1 eV returned as a JSON.\n",
    "\"\"\"\n",
    "\n",
    "import json\n",
    "from urllib.request import urlopen\n",
    "\n",
    "api = 'http://aflowlib.duke.edu/search/API/?'\n",
    "cmd = 'Egap(0.5*,*0.7),paging(0),format(json)'\n",
    "entry = urlopen(api + cmd).read().decode('utf-8')\n",
    "entry_json = json.loads(entry)\n",
    "print(entry_json)"
   ]
  },
  {
   "cell_type": "code",
   "execution_count": null,
   "metadata": {},
   "outputs": [],
   "source": [
    "\"\"\"\n",
    "    Get the top 10 insulators with the highest shear modulus.\n",
    "\"\"\"\n",
    "import json\n",
    "from urllib.request import urlopen\n",
    "\n",
    "api = 'http://aflowlib.duke.edu/search/API/?'\n",
    "search = 'ael_shear_modulus_vrh'\n",
    "cmd = ',Egap(6*),paging(-1,10),format(json)'\n",
    "\n",
    "entry = urlopen(api + search + cmd).read().decode('utf-8')\n",
    "entry_json = json.loads(entry)\n",
    "entry_list = [{'compound': entry_json[e]['compound'], search: entry_json[e][search]} for e in entry_json.keys()]\n",
    "for i in range(10):\n",
    "    print('{0:<10} {1:7.3f}'.format(entry_list[i]['compound'] + ':', float(entry_list[i][search])))"
   ]
  },
  {
   "cell_type": "markdown",
   "metadata": {},
   "source": [
    "## AFLUX: execises\n",
    "1. Use AFLUX to retrieve the formation enthalpies for all entries in a ternary alloy system of your choice."
   ]
  },
  {
   "cell_type": "code",
   "execution_count": null,
   "metadata": {},
   "outputs": [],
   "source": []
  },
  {
   "cell_type": "markdown",
   "metadata": {},
   "source": [
    "2. Use AFLUX to retrieve the space group numbers of all materials that contain Cu and Ti but not V (the logical NOT operator is denoted by the exclamation mark ```!```)."
   ]
  },
  {
   "cell_type": "code",
   "execution_count": null,
   "metadata": {},
   "outputs": [],
   "source": []
  },
  {
   "cell_type": "markdown",
   "metadata": {},
   "source": [
    "3. Use AFLUX to retrieve the band gaps of all of the materials that have a calculated bulk modulus between 200 GPa and 300 GPa."
   ]
  },
  {
   "cell_type": "code",
   "execution_count": null,
   "metadata": {},
   "outputs": [],
   "source": []
  },
  {
   "cell_type": "markdown",
   "metadata": {},
   "source": [
    "4. Count the materials in the ICSD catalog that contain the element Sn but not Pb, and that have a band gap between 1 eV and 3 eV."
   ]
  },
  {
   "cell_type": "code",
   "execution_count": null,
   "metadata": {},
   "outputs": [],
   "source": []
  }
 ],
 "metadata": {
  "kernelspec": {
   "display_name": "Python 3",
   "language": "python",
   "name": "python3"
  },
  "language_info": {
   "codemirror_mode": {
    "name": "ipython",
    "version": 3
   },
   "file_extension": ".py",
   "mimetype": "text/x-python",
   "name": "python",
   "nbconvert_exporter": "python",
   "pygments_lexer": "ipython3",
   "version": "3.7.4"
  }
 },
 "nbformat": 4,
 "nbformat_minor": 2
}
