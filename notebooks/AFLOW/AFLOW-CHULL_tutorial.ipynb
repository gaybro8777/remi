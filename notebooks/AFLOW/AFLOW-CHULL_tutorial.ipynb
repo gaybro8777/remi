{
 "cells": [
  {
   "cell_type": "markdown",
   "metadata": {},
   "source": [
    "# AFLOW-CHULL"
   ]
  },
  {
   "cell_type": "markdown",
   "metadata": {},
   "source": [
    "## Requirements for this Jupyter notebook:\n",
    "- AFLOW binary (v3.1.225 and higher) in your path (AFLOW-install.ipynb)\n",
    "- aflow_chull_plotter.py and aflow_chull.py\n",
    "- Install necessary python packages: <code>pip install -r requirements.txt</code> (python 2) or <code>pip3 install -r requirements.txt</code> (python 3)\n",
    "\n",
    "### requirements.txt\n",
    "    attrs>=18.2.0\n",
    "    certifi>=2018.11.29\n",
    "    chardet>=3.0.4\n",
    "    decorator>=4.3.2\n",
    "    idna>=2.8\n",
    "    ipython-genutils>=0.2.0\n",
    "    jsonschema>=3.0.0\n",
    "    jupyter>=1.0\n",
    "    nbformat>=4.4.0\n",
    "    numpy>=1.16.2\n",
    "    plotly>=3.6.1\n",
    "    pyrsistent>=0.14.11\n",
    "    pytz>=2018.9\n",
    "    requests>=2.21.0\n",
    "    retrying>=1.3.3\n",
    "    six>=1.12.0\n",
    "    traitlets>=4.3.2\n",
    "    urllib3>=1.24.1"
   ]
  },
  {
   "cell_type": "code",
   "execution_count": null,
   "metadata": {},
   "outputs": [],
   "source": [
    "#!/usr/bin/env python\n",
    "\n",
    "import json\n",
    "import subprocess\n",
    "import os\n",
    "import re\n",
    "import numpy as np\n",
    "from random import sample\n",
    "import plotly.graph_objs as go\n",
    "from plotly.offline import init_notebook_mode, iplot\n",
    "from pprint import pprint\n",
    "\n",
    "# Base class for AFLOW-CHULL\n",
    "class CHull:\n",
    "\n",
    "    def __init__(self, aflow_executable='aflow'):\n",
    "        self.aflow_executable = aflow_executable\n",
    "\n",
    "    def aflow_command(self, cmd):\n",
    "        #print('cmd: ' + cmd)\n",
    "        try:\n",
    "            return subprocess.check_output(\n",
    "                self.aflow_executable + cmd,\n",
    "                shell=True\n",
    "            )\n",
    "        except subprocess.CalledProcessError:\n",
    "            print('Error aflow executable not found at: ' + self.aflow_executable)\n",
    "\n",
    "    def get_hull(self, alloy = None, options = None):\n",
    "        command = ' --chull --force'\n",
    "        if options:\n",
    "            command += ' ' + options\n",
    "\n",
    "        output = self.aflow_command(\n",
    "            command + ' --print=json --screen_only --alloy=' + alloy\n",
    "        )\n",
    "        #print('output: ' + output)\n",
    "        res_json = json.loads(output)\n",
    "        return res_json\n",
    "\n",
    "    def get_distance_to_hull(self, alloy = None, hull = None, off_hull_point = None, options = None):\n",
    "        res_json = {}\n",
    "        if alloy is not None:\n",
    "            alloy=alloy.strip()\n",
    "            if not alloy:\n",
    "                print(\"ERROR: alloy input empty\")\n",
    "                return res_json\n",
    "            command = ' --chull --distance_to_hull=' + off_hull_point\n",
    "            if options:\n",
    "                command += ' ' + options\n",
    "            output = self.aflow_command(\n",
    "                command + ' --print=json --screen_only --alloy=' + alloy\n",
    "            )\n",
    "            #print('output: ' + output)\n",
    "            res_json = json.loads(output)\n",
    "        else:\n",
    "            for point in hull['points_data']:\n",
    "                if point['auid'] == off_hull_point:\n",
    "                    return { off_hull_point: point['enthalpy_formation_atom_difference'] }\n",
    "        return res_json\n",
    "\n",
    "    def get_stability_criterion(self, alloy = None, hull = None, hull_point = None, options = None):\n",
    "        res_json = {}\n",
    "        if alloy is not None:\n",
    "            alloy=alloy.strip()\n",
    "            if not alloy:\n",
    "                print(\"ERROR: alloy input empty\")\n",
    "                return res_json\n",
    "            command = ' --chull --stability_criterion=' + hull_point\n",
    "            if options:\n",
    "                command += ' ' + options\n",
    "            output = self.aflow_command(\n",
    "                command + ' --print=json --screen_only --alloy=' + alloy\n",
    "            )\n",
    "            #print('output: ' + output)\n",
    "            res_json = json.loads(output)\n",
    "        else:\n",
    "            for point in hull['points_data']:\n",
    "                if point['auid'] == hull_point:\n",
    "                    return { hull_point: point['stability_criterion'] }\n",
    "        return res_json\n",
    "\n",
    "    def get_hull_energy(self, alloy = None, composition = None, options = None):\n",
    "        command = ' --chull --hull_energy=' + ','.join([ str(comp) for comp in composition ])\n",
    "        if options:\n",
    "            command += ' ' + options\n",
    "\n",
    "        output = self.aflow_command(\n",
    "            command + ' --print=json --screen_only --alloy=' + alloy\n",
    "        )\n",
    "        #print('output: ' + output)\n",
    "        res_json = json.loads(output)\n",
    "        return res_json\n",
    "\n",
    "# Base class for AFLOW-CHULL plotting\n",
    "class CHullPlotter:\n",
    "    def __init__(self, aflow_executable = '~/bin/aflow'):\n",
    "        # Set-up notebook for offline mode\n",
    "        init_notebook_mode(connected=True)\n",
    "\n",
    "        # Load CHull in case a new json must be created\n",
    "        self.chull = CHull(aflow_executable = aflow_executable)\n",
    "\n",
    "    def plot(self, alloy = None, hull = None):\n",
    "        if alloy is not None:\n",
    "            alloy=alloy.strip()\n",
    "            if not alloy:\n",
    "                print(\"ERROR: alloy input empty\")\n",
    "                return\n",
    "            hull = self.chull.get_hull(alloy)\n",
    "        else:\n",
    "            if hull is None:\n",
    "                print(\"ERROR: no hull found\")\n",
    "                return\n",
    "            alloy=hull[\"hull_data\"][\"alloy\"]\n",
    "        # seperate alloy into elements\n",
    "        ems = re.findall('[A-Z][^A-Z]*', alloy)\n",
    "        em1, em2, em3 = ems[0], ems[1], ems[2] if len(ems) == 3 else None\n",
    "        # ----- Load CHull json -----\n",
    "        if not em3:\n",
    "            # 2D Cartesian plot\n",
    "            _Two_Species_Plotter().plot_CHull(hull, em1, em2)\n",
    "        else:\n",
    "            # Ternary plot\n",
    "            _Three_Species_Plotter().plot_CHull(hull, em1, em2, em3)\n",
    "\n",
    "# For plotting 2 species alloys (2D cartesian)\n",
    "class _Two_Species_Plotter:\n",
    "    def plot_CHull(self, hull, em1, em2):\n",
    "        # Set colors, randomly picked from {red, blue, green}\n",
    "        color_choices = [[1,0,0], [0,1,0], [0,0,1]]\n",
    "        colors = sample(color_choices, 2)\n",
    "        left_color, right_color = colors[0], colors[1]\n",
    "\n",
    "        # ----- Create scatter for edges -----\n",
    "        # Grab edges\n",
    "        edges = [dic['vertices_position'] for dic in list(hull['facets_data'].values())[0]]\n",
    "        # Create scatter for edges\n",
    "        hull_scatter = self._create_edges_scatter(edges)\n",
    "\n",
    "        # ----- Create scatter for points -----\n",
    "        points_scatter = self._create_points_scatter(hull['points_data'], em1, left_color, right_color)\n",
    "\n",
    "        # ----- Plot -----\n",
    "        fig = self._create_figure(hull_scatter, points_scatter, em1, em2)\n",
    "        iplot(fig)\n",
    "\n",
    "    def _create_edges_scatter(self, edges):\n",
    "        edge_xs = []\n",
    "        edge_ys = []\n",
    "        for edge in edges:\n",
    "            point1 = edge[0]\n",
    "            edge_xs.append(1.0 - point1[0])  # Flip x values because they are reversed in the json output for some reason\n",
    "            edge_ys.append(point1[1] * 1000.0)  # Multiply by 1000 to match with the points\n",
    "\n",
    "        hull_scatter = go.Scatter(\n",
    "            x=np.array(edge_xs),\n",
    "            y=np.array(edge_ys),\n",
    "            mode='lines',\n",
    "            name='hull',\n",
    "            hoverinfo='none'\n",
    "        )\n",
    "        return hull_scatter\n",
    "\n",
    "    def _create_points_scatter(self, points_data, em1, left_color, right_color):\n",
    "        colors, auids, urls, c_name, xs, ys = [], [], [], [], [], []\n",
    "\n",
    "        # First grab points from the points data\n",
    "        for compound in points_data:\n",
    "            # Add AUID and url\n",
    "            urls.append(compound['url_entry_page'])\n",
    "            auids.append(compound['auid'])\n",
    "            # Add compound name\n",
    "            c_name.append(compound['compound'])\n",
    "            # Set y: enthalpy_formation_atom\n",
    "            y = compound['enthalpy_formation_atom']\n",
    "            # Set x\n",
    "            frac = compound['fractional_compound']\n",
    "            # If 1 element then figure out if first or second element\n",
    "            if compound['nspecies'] == 1:\n",
    "                x = 0.0 if frac == em1 else 1.0\n",
    "            # o.w. mix of the 2 elements\n",
    "            else:\n",
    "                # Example search: 'Pd0.4Pt0.6' -> '0.6'\n",
    "                x = float(re.search(r'(0.\\d*)$', frac).group(0))\n",
    "            # Add color\n",
    "            new_color = [(x * right_color[i]) + ((1-x) * left_color[i]) for i in range(3)]\n",
    "            colors.append(new_color)\n",
    "            # Add point\n",
    "            xs.append(x)\n",
    "            ys.append(y)\n",
    "\n",
    "        # Create scatter\n",
    "        points_scatter = go.Scatter(\n",
    "        x=np.array(xs),\n",
    "        y=np.array(ys),\n",
    "        mode='markers',\n",
    "        name='enthalpy',\n",
    "        hoverinfo='text',\n",
    "        text=[\"\"\"<a href=\"{}/\">{}</a>\"\"\".format(urls[i], c_name[i]) for i in range(len(urls))],\n",
    "        hoverlabel=dict(bgcolor='black'),\n",
    "        marker=dict(\n",
    "            color=['rgb({}, {}, {})'.format(c[0], c[1], c[2]) for c in colors],\n",
    "            line=dict(\n",
    "                color='rgb(0, 0, 0)',\n",
    "                width=1\n",
    "                )\n",
    "            ),\n",
    "        )\n",
    "\n",
    "        return points_scatter\n",
    "\n",
    "    def _create_figure(self, hull_scatter, points_scatter, em1, em2):\n",
    "        data = [hull_scatter, points_scatter]\n",
    "        layout = go.Layout(showlegend=False,\n",
    "                           hovermode='closest',\n",
    "                           xaxis=dict(\n",
    "                                title='{}-{}'.format(em1, em2),\n",
    "                                autorange=True,\n",
    "                                showgrid=True,\n",
    "                                zeroline=False,\n",
    "                                showline=True,\n",
    "                                showticklabels=True,\n",
    "                                titlefont=dict(\n",
    "                                    size=18,\n",
    "                                )\n",
    "                            ),\n",
    "                            yaxis=dict(\n",
    "                                title='eV/Atom',\n",
    "                                autorange=True,\n",
    "                                showgrid=True,\n",
    "                                zeroline=False,\n",
    "                                showline=True,\n",
    "                                showticklabels=True,\n",
    "                                titlefont=dict(\n",
    "                                    size=18,\n",
    "                                )\n",
    "                            ))\n",
    "        fig = go.Figure(data=data, layout=layout)\n",
    "        return fig\n",
    "\n",
    "\n",
    "# For plotting 3 species alloys (Ternary)\n",
    "class _Three_Species_Plotter:\n",
    "    def plot_CHull(self, hull, em1, em2, em3):\n",
    "        self.em1, self.em2, self.em3 = em1, em2, em3\n",
    "        # ----- Create scatter for edges -----\n",
    "        # Grab compounds that make up points for edges\n",
    "        compounds = [dic['vertices_position'] for dic in hull['facets_data']['3-nary:{}-{}-{}'.format(em1, em2, em3)]]\n",
    "        # Create scatter for edges\n",
    "        hull_scatters = self._create_edges_scatter(compounds)\n",
    "\n",
    "        # ----- Create scatter for points -----\n",
    "        points_scatter = self._create_points_scatter(hull['points_data'])\n",
    "\n",
    "        # ----- Plot -----\n",
    "        fig = self._create_figure(hull_scatters, points_scatter)\n",
    "        iplot(fig)\n",
    "\n",
    "    def _create_edges_scatter(self, compounds):\n",
    "        hull_scatters = []\n",
    "        points_a, points_b, points_c = [], [], []\n",
    "        for vertices in compounds:\n",
    "            point1, point2, point3 = vertices[0], vertices[1], vertices[2]\n",
    "            point1[2] = 1.0 - (point1[0] + point1[1])\n",
    "            point2[2] = 1.0 - (point2[0] + point2[1])\n",
    "            point3[2] = 1.0 - (point3[0] + point3[1])\n",
    "            # Important note: As and Bs are switched in the json compared to ternary plot points in Plotly\n",
    "            hull_scatter = {\n",
    "                'type': 'scatterternary',\n",
    "                'mode': 'lines',\n",
    "                'name': 'hull',\n",
    "                'hoverinfo': 'none',\n",
    "                'marker': dict(color='rgba(150, 150, 150, 0.4)', size=0.5),\n",
    "                'a': np.array([point1[1], point2[1], point3[1]]),\n",
    "                'b': np.array([point1[0], point2[0], point3[0]]),\n",
    "                'c': np.array([point1[2], point2[2], point3[2]])\n",
    "            }\n",
    "            hull_scatters.append(hull_scatter)\n",
    "\n",
    "        return hull_scatters\n",
    "\n",
    "    def _create_points_scatter(self, points_data):\n",
    "        colors, auids, urls, c_name, As, Bs, Cs = [], [], [], [], [], [], []\n",
    "\n",
    "        # First grab points from the points data\n",
    "        for compound in points_data:\n",
    "            # Add AUID and url\n",
    "            urls.append(compound['url_entry_page'])\n",
    "            auids.append(compound['auid'])\n",
    "            # Add compound name\n",
    "            c_name.append(compound['compound'])\n",
    "            comp = compound['fractional_compound']\n",
    "            if compound['nspecies'] == 1:\n",
    "                if comp == self.em1: vals = [1, 0, 0]\n",
    "                elif comp ==  self.em2: vals = [0, 1, 0]\n",
    "                else: vals = [0, 0, 1]\n",
    "            else:\n",
    "                em_se = [re.search('{}(0.\\d*)'.format(em), comp) for em in [self.em1, self.em2, self.em3]]\n",
    "                vals = [float(v.group(1)) if v else 0.0 for v in em_se]\n",
    "            As.append(vals[1])\n",
    "            Bs.append(vals[0])\n",
    "            Cs.append(vals[2])\n",
    "            # Add color\n",
    "            r, g, b = [1,0,0], [0,1,0], [0,0,1]\n",
    "            new_color = [(As[-1] * b[i]) + (Bs[-1] * r[i]) + (Cs[-1] * g[i]) for i in range(3)]\n",
    "            colors.append(new_color)\n",
    "\n",
    "        points_scatter = {\n",
    "                'type': 'scatterternary',\n",
    "                'mode': 'markers',\n",
    "                'name': 'points',\n",
    "                'hoverinfo': 'text',\n",
    "                'a': np.array(As),\n",
    "                'b': np.array(Bs),\n",
    "                'c': np.array(Cs),\n",
    "                'text': [\"\"\"<a href=\"{}/\">{}</a>\"\"\".format(urls[i], c_name[i]) for i in range(len(urls))],\n",
    "                'hoverlabel': dict(bgcolor='black'),\n",
    "                'marker': dict(\n",
    "                size = 7,\n",
    "                color=['rgb({}, {}, {})'.format(c[0], c[1], c[2]) for c in colors],\n",
    "                line=dict(\n",
    "                    color='rgb(0, 0, 0)',\n",
    "                    width=1\n",
    "                    )\n",
    "                )\n",
    "            }\n",
    "\n",
    "        return points_scatter\n",
    "\n",
    "    def _create_figure(self, hull_scatters, points_scatter):\n",
    "        data = hull_scatters\n",
    "        data.append(points_scatter)\n",
    "\n",
    "        layout = {\n",
    "            'ternary':{\n",
    "                'sum': 1.0,\n",
    "                'aaxis': dict(title=self.em2, showgrid=False, showticklabels=False, titlefont=dict(color='blue')),\n",
    "                'baxis': dict(title=self.em1, showgrid=False, showticklabels=False, titlefont=dict(color='red')),\n",
    "                'caxis': dict(title=self.em3, showgrid=False, showticklabels=False, titlefont=dict(color='green'))\n",
    "            },\n",
    "            'showlegend': False,\n",
    "            'hovermode': 'closest',\n",
    "        }\n",
    "\n",
    "        fig = {'data': data, 'layout': layout}\n",
    "        return fig"
   ]
  },
  {
   "cell_type": "markdown",
   "metadata": {},
   "source": [
    "## Set <i>aflow_path</i>\n",
    "If your aflow is not installed in home then replace <i>aflow_path</i> below with the path"
   ]
  },
  {
   "cell_type": "code",
   "execution_count": null,
   "metadata": {},
   "outputs": [],
   "source": [
    "aflow_path = '~/bin/aflow'\n",
    "\n",
    "#initialize classes\n",
    "chull = CHull(aflow_executable = aflow_path)\n",
    "chull_plotter = CHullPlotter(aflow_executable = aflow_path)"
   ]
  },
  {
   "cell_type": "markdown",
   "metadata": {},
   "source": [
    "## Example binary hull (PdPt)\n",
    "Double click to the right of point to go to compound link\n",
    "<br>\n",
    "Be patient when you see the * to the left"
   ]
  },
  {
   "cell_type": "markdown",
   "metadata": {},
   "source": [
    "### <i>get_hull</i>"
   ]
  },
  {
   "cell_type": "code",
   "execution_count": null,
   "metadata": {},
   "outputs": [],
   "source": [
    "alloy = 'PdPt'\n",
    "hull_data = chull.get_hull(alloy = alloy, options = '--keep=log')\n",
    "pprint(hull_data)"
   ]
  },
  {
   "cell_type": "markdown",
   "metadata": {},
   "source": [
    "### <i>get_distance_to_hull</i> from alloy"
   ]
  },
  {
   "cell_type": "code",
   "execution_count": null,
   "metadata": {},
   "outputs": [],
   "source": [
    "output = chull.get_distance_to_hull(alloy = alloy, off_hull_point = 'aflow:71bc1b15525ffa35', options = '--keep=log')\n",
    "pprint(output)"
   ]
  },
  {
   "cell_type": "markdown",
   "metadata": {},
   "source": [
    "#### check files created (<code>aflow_PdPt_hull.log</code>)"
   ]
  },
  {
   "cell_type": "code",
   "execution_count": null,
   "metadata": {},
   "outputs": [],
   "source": [
    "! ls"
   ]
  },
  {
   "cell_type": "code",
   "execution_count": null,
   "metadata": {},
   "outputs": [],
   "source": [
    "! cat aflow_PdPt_hull.log"
   ]
  },
  {
   "cell_type": "markdown",
   "metadata": {},
   "source": [
    "### <i>get_distance_to_hull</i> from pre-calculated hull"
   ]
  },
  {
   "cell_type": "code",
   "execution_count": null,
   "metadata": {},
   "outputs": [],
   "source": [
    "output = chull.get_distance_to_hull(hull = hull_data, off_hull_point = 'aflow:71bc1b15525ffa35')\n",
    "pprint(output)"
   ]
  },
  {
   "cell_type": "markdown",
   "metadata": {},
   "source": [
    "### <i>get_stability_criterion</i>  from alloy"
   ]
  },
  {
   "cell_type": "code",
   "execution_count": null,
   "metadata": {},
   "outputs": [],
   "source": [
    "output = chull.get_stability_criterion(alloy = alloy, hull_point = 'aflow:f31b0e27897cd162', options = None)\n",
    "pprint(output)"
   ]
  },
  {
   "cell_type": "markdown",
   "metadata": {},
   "source": [
    "### <i>get_stability_criterion</i> from pre-calculated hull"
   ]
  },
  {
   "cell_type": "code",
   "execution_count": null,
   "metadata": {},
   "outputs": [],
   "source": [
    "output = chull.get_stability_criterion(hull = hull_data, hull_point = 'aflow:f31b0e27897cd162')\n",
    "pprint(output)"
   ]
  },
  {
   "cell_type": "markdown",
   "metadata": {},
   "source": [
    "### <i>get_hull_energy</i>"
   ]
  },
  {
   "cell_type": "code",
   "execution_count": null,
   "metadata": {},
   "outputs": [],
   "source": [
    "output = chull.get_hull_energy(alloy = alloy, composition = [0.5], options = None)\n",
    "pprint(output)"
   ]
  },
  {
   "cell_type": "markdown",
   "metadata": {},
   "source": [
    "### <i>plot</i> from alloy"
   ]
  },
  {
   "cell_type": "code",
   "execution_count": null,
   "metadata": {},
   "outputs": [],
   "source": [
    "chull_plotter.plot(alloy = \"PdPt\")"
   ]
  },
  {
   "cell_type": "markdown",
   "metadata": {},
   "source": [
    "### <i>plot</i> from pre-calculated hull"
   ]
  },
  {
   "cell_type": "code",
   "execution_count": null,
   "metadata": {},
   "outputs": [],
   "source": [
    "chull_plotter.plot(hull = hull_data)"
   ]
  },
  {
   "cell_type": "markdown",
   "metadata": {},
   "source": [
    "## Example ternary hull (MnPdPt)\n",
    "For 3D plot, double click on point and then click on the pop-up banner to go to compound link\n",
    "<br>\n",
    "Be patient when you see the * to the left"
   ]
  },
  {
   "cell_type": "markdown",
   "metadata": {},
   "source": [
    "### <i>plot</i>"
   ]
  },
  {
   "cell_type": "code",
   "execution_count": null,
   "metadata": {},
   "outputs": [],
   "source": [
    "chull_plotter.plot(alloy = 'MnPdPt')"
   ]
  },
  {
   "cell_type": "markdown",
   "metadata": {},
   "source": [
    "## AFLOW-CHULL README"
   ]
  },
  {
   "cell_type": "markdown",
   "metadata": {},
   "source": [
    "\n",
    "LATEST VERSION OF THE FILE: <a href=\"http://materials.duke.edu/AFLOW/README_AFLOW_CHULL.TXT\">README</a>\n",
    "\n",
    "README written by: Corey Oses (<a href=\"mailto:corey.oses@duke.edu\">corey.oses@duke.edu</a>)\n",
    "\n",
    "Citation info: C. Oses, E. Gossett, D. Hicks, F. Rose, E. Perim, I. Takeuchi, S. Sanvito, O. Levy, C. Toher, and S. Curtarolo, <i>AFLOW-CHULL: Cloud-based platform for autonomous phase stability analysis</i>, J. Chem. Inf. Model. <b>58</b>(12), 2477-2490 (2018). \n",
    "\n",
    "\n",
    "### GENERAL OVERVIEW:\n",
    "\n",
    "AFLOW-CHULL is an automated thermodynamic stability analysis tool. Compound data is downloaded from the\n",
    "AFLOW REST-API/AFLUX Search-API and the minimum energy surface is calculated using a modified\n",
    "variant (dimensionally-iterative) of the qhull convex hull algorithm:\n",
    "ACM Trans. on Mathematical Software, <b>22</b>(4):469-483, Dec 1996.\n",
    "Various thermodynamic properties are extracted, including off-hull (full decomposition reaction,\n",
    "distances to the hull) and on-hull (equilibrium phases, equivalent ground state structures) features.\n",
    "Determination of the stability criterion is also available, which has served as a powerful\n",
    "screening tool for the discovery of new permanent magnets: Science Adv. <b>3</b>(4), e1602241 (2017).\n",
    "\n",
    "Other important analyses running under the hood include:\n",
    " - structure comparison analysis via Burzlaff criteria (<code>--readme=compare</code>)\n",
    " - outlier detection and removal (interquartile range).\n",
    "\n",
    "Various output formats are provided, including plain text, json, PDF, and Jupyter.\n",
    "\n",
    "\n",
    "### LIST OF AFLOW-CHULL COMMANDS:\n",
    "\n",
    "<code>aflow --convex_hull=|--chull --alloy=MnPdPt[,AlCuZn,...] [chull_options] [--destination=[DIRECTORY]]</code> : Queries the AFLOW API for relevant entries (see <code>--load_library</code>), calculates the convex hull, and returns the information as a PDF (default, see <code>--output</code>).\n",
    "\n",
    "<code>--chull</code> : Necessary flag for entering mode for calculating convex hull.\n",
    "\n",
    "<code>--alloy</code> : Necessary argument, specifies system. This code is not dimension specific, i.e., you can calculate the convex hull for any n-ary system. There are two input modes:  raw (comma-separated) and combinatorial (colon- and comma-separated). Raw input:  <code>--alloy=MnPdPt,AlCuZn</code>. Combinatorial input:  <code>--alloy=Ag,Au:Mn</code>.  This is interpreted as <code>--alloy=AgMn,AuMn</code>.\n",
    "            \n",
    "<code>[--destination=[DIRECTORY]]</code> : Optional argument, specify the directory for the output. Default is <code>--destination=./</code>.\n",
    "\n",
    "#### chull options\n",
    "\n",
    "<code>[--usage]</code> : Returns usage commands and options.\n",
    "\n",
    "<code>[--print=|--p=|--output=|--o=latex|pdf|json|text|jupyter|jupyter2|jupyter3]</code> : Select the output format. <code>--print=latex|pdf</code> are the same (.pdf). <code>--print=json|text</code> have the following extensions:  .json and .txt. <code>--print=jupyter|jupyter2|jupyter3</code> creates a jupter notebook json file that plots a convex hull for the specified alloy (jupyter3 is default). Default is <code>--print=pdf</code>.\n",
    "\n",
    "<code>[--screen_only]</code> : Output is direct to screen (stdout) instead of writing to a file. All logging output is surpressed.\n",
    "\n",
    "<code>[--keep=log|--keep_log|--keeplog|--log]</code> : Prints a log file of relevant output.\n",
    "\n",
    "<code>[--keep=tex,log]</code> : Keep both.\n",
    "\n",
    "##### LOADING OPTIONS\n",
    "  \n",
    "<code>[--load_library=|--loadlibrary=|--ll=icsd|lib1|lib2|lib3]</code> : Specify libraries from which to load. Default: <code>--load_library=icsd,lib2,lib3</code>.\n",
    "\n",
    "<code>[--load_API|--load_api|--loadapi|--lapi|--api]</code> : Force loading entries from the API (default unless on nietzsche, aflowlib, or habana).\n",
    "\n",
    "<code> [--load_entries_entry_output|--loadentriesentryoutput|--leo]</code> : Get full output for all entries loaded from the AFLOW API.\n",
    "\n",
    "<code>[--neglect=|--ban=aflow:bb0d45ab555bc208,aflow:fb9eaa58604ce774]</code> : Ban specific entries from the convex hull calculation, done by AUID.\n",
    "\n",
    "<code>[--see_neglect|--seeneglect| --sn]</code> : Show why entries were neglected.\n",
    "\n",
    "<code>[--remove_extreme_points=|--removeextremepoints=|--remove_extrema=|--removeextrema=|--rep=-1000]</code> : Exclude points based on Hf/Ts (floor/ceiling). Units are meV/atom / K.\n",
    "\n",
    "<code>[--entropic_temperature|--entropictemperature|--entroptemp]</code> : Calculate the Ts convex hull (upper-half). Default is Hf hull (lower-half).\n",
    "\n",
    "<code>[--include_paw_gga|--paw_gga]</code> : Include calculations run with PAW_GGA. Easily coupled with default PAW_PBE (same level of theory, differently parametrized).\n",
    "\n",
    "##### ANALYSIS OPTIONS:\n",
    "        \n",
    "<code>[--distance_to_hull=|--distancetohull=|--distance2hull=|--dist2hull=|--d2h=aflow:bb0d45ab555bc208,aflow:fb9eaa58604ce774]</code> : Calculates a structure's distance below/above (Hf/Ts) the hull.\n",
    "\n",
    "<code>[--stability_criterion=|--stabilitycriterion=|--stable_criterion=|--scriterion=|--sc=aflow:bb0d45ab555bc208,aflow:fb9eaa58604ce774]</code> : Calculates the stability criterion of the ground state structure. Will return a warning if structure is not a ground state one. It removes the point from the hull, calculates the new hull, and calculates the distance of this point from below/above (Hf/Ts) hull.\n",
    "\n",
    "<code>[--hull_formation_enthalpy=|--hull_energy=0.25,0.25]</code> : Returns the value of the convex hull surface at the specified coordinate/concentration. For stoichiometric hulls, provide the reduced composition form, i.e., for the compound Mn<sub>2</sub>PdPt, use <code>--hull_formation_enthalpy=0.5,0.25</code>, where the composition of the last component is implicitly 1-&sum;(0.5+0.25). Providing an additional component (e.g., <code>--dist2hull=0.5,0.25,0.1</code>) results in a rigid shift in the energy axis and, thus, a constant added to the final distance calculated (0.1 is in units of eV for formation energy hulls).\n",
    "\n",
    "<code>[--skip_structure_comparison|--skipstructruecomparison|--skipstructcomp|--ssc]</code> : structure comparison analysis for determination of equivalent ground state structures is skipped (can be time consuming).\n",
    "\n",
    "<code>[--skip_stability_criterion_analysis|--skipstabilitycriterionanalysis|--skipscriterion|--sscriterion]</code> : analysis of stability criterion for ground state structures is skipped (can be time consuming).\n",
    "\n",
    "<code>[--include_skewed_hulls|--include_skewed|--ish]</code> : process hull despite skewed endpoints (|ground state endpoint energy| < 15 meV).\n",
    "\n",
    "<code>[--include_unreliable_hulls|--include_unreliable|--iuh]</code> : process hull despite poor statistics (binary hull count < 200).\n",
    "\n",
    "<code>[--include_outliers|--io]</code> : include any detected outliers (output/warning is still shown).\n",
    "\n",
    "<code>[--force]</code> : force output despite warnings.\n",
    "\n",
    "##### PDF/LATEX OPTIONS:\n",
    "  \n",
    "<code>[--image_only|--imageonly|--image]</code> : Latex/PDF output mode only. Similar to <code>--document_only</code>, but the image dimensions are not necessarily for a standard page. Preferred option for importing into papers/presentations.\n",
    "\n",
    "<code>[--no_document|--nodocument|--no_doc|--nodoc|--full_page_image|--fullpageimage]</code> : Latex/PDF output mode only. Generates a PDF of just the convex hull illustration (2/3D). Dimensions: 8.5x11 inches (standard page), landscape.\n",
    "\n",
    "<code>[--document_only|--documentonly|--doc_only|--doconly|--doc]</code> : Latex/PDF output mode only. Exclude convex hull illustration. This is the default for quaternary systems and above.\n",
    "\n",
    "<code>[--keep=tex|--keep_tex|--keeptex|--tex]</code> : Latex/PDF output mode only. Will keep latex .tex and put it in <code>--destination=[DIRECTORY]</code>.\n",
    "\n",
    "<code>[--latex_output|--latexoutput]</code> : Latex/PDF output mode only. See full latex output. Good for troubleshooting.\n",
    "\n",
    "<code>[--latex_interactive|--latexinteractive]</code> : Latex/PDF output mode only. Allows you to interact with latex as it compiles. Good for troubleshooting.\n",
    "\n",
    "<code>[--light_contrast|--lightcontrast|--lc]</code> : Latex/PDF output mode only. Modifies the convex hull illustration color scheme to be lighter.\n",
    "\n",
    "<code>[--large_font|--largefont|--large|--lf]</code> : Latex/PDF output mode only. Prints a \"larger\" font size for convex hull illustration.\n",
    "\n",
    "<code>[--png_resolution=|--pngresolution=|--pngr=300]</code> : Set PNG resolution (<code>-density</code> in convert).\n",
    "\n",
    "<code>[--plot_iso_max_latent_heat|--iso_max|--isomax]</code> : Plot iso-max-latent-heat lines for ground state structures. See <a href=\"http://doi.org/10.1063/1.4902865\">doi:10.1063/1.4902865</a>.\n",
    "\n",
    "For additional information contact: Corey Oses (<a href=\"mailto:corey.oses@duke.edu\">corey.oses@duke.edu</a>)"
   ]
  },
  {
   "cell_type": "markdown",
   "metadata": {},
   "source": [
    "## Exercises"
   ]
  },
  {
   "cell_type": "markdown",
   "metadata": {},
   "source": [
    "1. What is the distance of Al<sub>17</sub>Co<sub>12</sub> from the hull?"
   ]
  },
  {
   "cell_type": "code",
   "execution_count": null,
   "metadata": {},
   "outputs": [],
   "source": [
    "#Enter code here"
   ]
  },
  {
   "cell_type": "markdown",
   "metadata": {},
   "source": [
    "2. What is the stability criterion of Te<sub>2</sub>Zr?"
   ]
  },
  {
   "cell_type": "code",
   "execution_count": null,
   "metadata": {},
   "outputs": [],
   "source": [
    "#Enter code here"
   ]
  },
  {
   "cell_type": "markdown",
   "metadata": {},
   "source": [
    "3. What is the energy of the CuZr hull at <i>x</i> = 0.5?"
   ]
  },
  {
   "cell_type": "code",
   "execution_count": null,
   "metadata": {},
   "outputs": [],
   "source": [
    "#Enter code here"
   ]
  },
  {
   "cell_type": "markdown",
   "metadata": {},
   "source": [
    "4. What is the most stable structure on the MnPdPt hull?"
   ]
  },
  {
   "cell_type": "code",
   "execution_count": null,
   "metadata": {},
   "outputs": [],
   "source": [
    "#Enter code here"
   ]
  }
 ],
 "metadata": {
  "kernelspec": {
   "display_name": "Python 3",
   "language": "python",
   "name": "python3"
  },
  "language_info": {
   "codemirror_mode": {
    "name": "ipython",
    "version": 3
   },
   "file_extension": ".py",
   "mimetype": "text/x-python",
   "name": "python",
   "nbconvert_exporter": "python",
   "pygments_lexer": "ipython3",
   "version": "3.7.4"
  }
 },
 "nbformat": 4,
 "nbformat_minor": 2
}
