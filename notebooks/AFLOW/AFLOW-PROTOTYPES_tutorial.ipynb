{
 "cells": [
  {
   "cell_type": "markdown",
   "metadata": {},
   "source": [
    "# AFLOW PROTOTYPES"
   ]
  },
  {
   "cell_type": "markdown",
   "metadata": {},
   "source": [
    "##### Requirements for this Jupyter notebook:\n",
    "- AFLOW binary (v3.1.225 and higher) in your path"
   ]
  },
  {
   "cell_type": "markdown",
   "metadata": {},
   "source": [
    "The general syntax for generating crystal structures with AFLOW is:\n",
    "\n",
    "`aflow --proto=<label>.AB:A:B:C:... --params=<a,b,c,alpha,beta,gamma,x1,y1,z1,...>`\n",
    "\n",
    "where,\n",
    "- `<label>` : AFLOW label corresponding to prototype (*e.g.*, A2BC4_cF56_227_d_a_e or T0001.A2BC)\n",
    "- `.AB`     : specifies decoration of species on each atomic site (*e.g.*, `.AB` or `.BA` for binaries)\n",
    "- `:A:B:C:` : indicates species on each atomic site (*e.g.*, :Mn:Pd:Pt); alphabetic\n",
    "- `<a,b,c,alpha,beta,gamma,x1,y1,z1,...>` : specifies the degrees of freedom (if applicable)"
   ]
  },
  {
   "cell_type": "markdown",
   "metadata": {},
   "source": [
    "#### Generate MgO rocksalt structure"
   ]
  },
  {
   "cell_type": "code",
   "execution_count": null,
   "metadata": {},
   "outputs": [],
   "source": [
    "! aflow --proto=AB_cF8_225_a_b:Mg:O --params=3.5"
   ]
  },
  {
   "cell_type": "markdown",
   "metadata": {},
   "source": [
    "Save for a later exercise."
   ]
  },
  {
   "cell_type": "code",
   "execution_count": null,
   "metadata": {},
   "outputs": [],
   "source": [
    "! aflow --proto=AB_cF8_225_a_b:Mg:O --params=3.5 > MgO.poscar"
   ]
  },
  {
   "cell_type": "markdown",
   "metadata": {},
   "source": [
    "#### Control format of structure file\n",
    "AFLOW supports common structure file formats, which are controlled by adding an optional flag to the command.\n",
    "\n",
    "Supported file formats include:\n",
    "\n",
    "\n",
    "- VASP (default) : `--vasp`\n",
    "- CIF : `--cif`\n",
    "- FHI-AIMS : `--aims`\n",
    "- QuantumEspresso : `--qe`\n",
    "- ABINIT : `--abinit`\n",
    "\n",
    "##### Example:"
   ]
  },
  {
   "cell_type": "code",
   "execution_count": null,
   "metadata": {},
   "outputs": [],
   "source": [
    "! aflow --proto=AB_cF8_225_a_b:Mg:O --params=3.5 --cif"
   ]
  },
  {
   "cell_type": "markdown",
   "metadata": {},
   "source": [
    "#### Control atomic site decoration\n",
    "Swap site decoration by appending `.BA` to the prototype label (structurally equivalent in this case)"
   ]
  },
  {
   "cell_type": "code",
   "execution_count": null,
   "metadata": {},
   "outputs": [],
   "source": [
    "! aflow --proto=AB_cF8_225_a_b.BA:Mg:O --params=3.5"
   ]
  },
  {
   "cell_type": "markdown",
   "metadata": {},
   "source": [
    "Note: if the decoration type is not specified, it defaults to the alphabetic decoration (*e.g.*, `.AB` for binaries)"
   ]
  },
  {
   "cell_type": "markdown",
   "metadata": {},
   "source": [
    "#### Automatic volume scaling\n",
    "Use Vegard's law to estimate the volume of the crystal based on the elements present in the structure.\n",
    "Specify the first degree of freedom in `--params` (*i.e.*, the lattice parameter $a$) with `-1`:"
   ]
  },
  {
   "cell_type": "code",
   "execution_count": null,
   "metadata": {},
   "outputs": [],
   "source": [
    "! aflow --proto=AB_cF8_225_a_b:Mg:O --params=-1"
   ]
  },
  {
   "cell_type": "markdown",
   "metadata": {},
   "source": [
    "#### Enumerated parameter sets\n",
    "For quick/easy reference to prototypes in AFLOW library (without specifying `--params`):"
   ]
  },
  {
   "cell_type": "code",
   "execution_count": null,
   "metadata": {},
   "outputs": [],
   "source": [
    "! aflow --proto=AB2C_oP16_62_c_2c_c-001.ABC:Cu:S:Sb    # chalcostibite structure w/automatic volume scaling"
   ]
  },
  {
   "cell_type": "markdown",
   "metadata": {},
   "source": [
    "To see available parameter sets for a given prototype:"
   ]
  },
  {
   "cell_type": "code",
   "execution_count": null,
   "metadata": {},
   "outputs": [],
   "source": [
    "! aflow --proto=AB2_oP6_58_a_g    # prototype label for hydrophilite, Fe2C, marcasite"
   ]
  },
  {
   "cell_type": "markdown",
   "metadata": {},
   "source": [
    "#### Get full list of available AFLOW prototypes"
   ]
  },
  {
   "cell_type": "code",
   "execution_count": null,
   "metadata": {},
   "outputs": [],
   "source": [
    "! aflow --protos"
   ]
  },
  {
   "cell_type": "markdown",
   "metadata": {},
   "source": [
    "#### Filter prototypes via number of species, stoichiometry, and space group"
   ]
  },
  {
   "cell_type": "code",
   "execution_count": null,
   "metadata": {},
   "outputs": [],
   "source": [
    "! aflow --prototype_labels --nspecies=2 --stoichiometry=1:2 --sg=225"
   ]
  },
  {
   "cell_type": "markdown",
   "metadata": {},
   "source": [
    "#### A README for the AFLOW Prototype functionality is available via:"
   ]
  },
  {
   "cell_type": "code",
   "execution_count": null,
   "metadata": {},
   "outputs": [],
   "source": [
    "! aflow --readme=anrl"
   ]
  },
  {
   "cell_type": "markdown",
   "metadata": {},
   "source": [
    "#### Additional information about the prototypes/functionality can be found in the following articles:\n",
    "- M. J. Mehl, D. Hicks, C. Toher, O. Levy, R. M. Hanson, G. L. W. Hart, and S. Curtarolo, The AFLOW Library of Crystallographic Prototypes: Part 1, Comp. Mat. Sci. 136 Supplement, S1–S828 (2017). [doi=10.1016/j.commatsci.2017.01.017](https://doi.org/10.1016/j.commatsci.2017.01.017)\n",
    "- D. Hicks, M. J. Mehl, E. Gossett, C. Toher, O. Levy, R. M. Hanson, G. L. W. Hart, and S. Curtarolo, The AFLOW Library of Crystallographic Prototypes: Part 2, Comp. Mat. Sci. 161 Supplement, S1-S1011 (2019). [doi=10.1016/j.commatsci.2018.10.043](https://doi.org/10.1016/j.commatsci.2018.10.043)"
   ]
  },
  {
   "cell_type": "markdown",
   "metadata": {},
   "source": [
    "### Exercises"
   ]
  },
  {
   "cell_type": "markdown",
   "metadata": {},
   "source": [
    "1. Use the `aflow --proto` command with the appropriate options to generate a POSCAR for one of the AFLOW prototypes decorated with elements of your choice (the `aflow --protos` command provides a list of available prototypes)."
   ]
  },
  {
   "cell_type": "code",
   "execution_count": null,
   "metadata": {},
   "outputs": [],
   "source": [
    "# your command here\n",
    "!"
   ]
  },
  {
   "cell_type": "markdown",
   "metadata": {},
   "source": [
    "2. Generate structures for the prototype `A_hR1_166_a` using an element and value of $a$ of your choice, with $c/a$ values of 0.5, 0.612, 1.0, 1.225, 1.5, 2.45, and 3.0. Save these structures with appropriate names, as they will be used as part of a later exercise.\n"
   ]
  },
  {
   "cell_type": "code",
   "execution_count": null,
   "metadata": {},
   "outputs": [],
   "source": [
    "# your commands here\n",
    "# structure 1\n",
    "! \n",
    "# structure 2\n",
    "!\n",
    "# structure 3\n",
    "!\n",
    "# structure 4\n",
    "!\n",
    "# structure 5\n",
    "!\n",
    "# structure 6\n",
    "!\n",
    "# structure 7\n",
    "!"
   ]
  },
  {
   "cell_type": "markdown",
   "metadata": {},
   "source": [
    "3. Generate the Heusler structure (`T0001.A2BC`; no `--params` flag needed) and decorate with elements of your choice. Save this structure with appropriate names, as they will be used as part of a later exercise."
   ]
  },
  {
   "cell_type": "code",
   "execution_count": null,
   "metadata": {},
   "outputs": [],
   "source": [
    "# your command here\n",
    "! "
   ]
  },
  {
   "cell_type": "markdown",
   "metadata": {},
   "source": [
    "4. Select a prototype from the Library of Crystallographic Prototypes at [aflow.org/CrystalDatabase/](http://aflow.org/CrystalDatabase/). Use the online tool to create a POSCAR for that structure, decorated with elements of your choice. Use the \"Refresh Jmol\" button to view the new structure."
   ]
  }
 ],
 "metadata": {
  "kernelspec": {
   "display_name": "Python 3",
   "language": "python",
   "name": "python3"
  },
  "language_info": {
   "codemirror_mode": {
    "name": "ipython",
    "version": 3
   },
   "file_extension": ".py",
   "mimetype": "text/x-python",
   "name": "python",
   "nbconvert_exporter": "python",
   "pygments_lexer": "ipython3",
   "version": "3.7.4"
  }
 },
 "nbformat": 4,
 "nbformat_minor": 2
}
