{
 "cells": [
  {
   "cell_type": "markdown",
   "metadata": {},
   "source": [
    "## AFLOW-ML API\n",
    "\n",
    "\n",
    "AFLOW-ML provides an open RESTful API to directly access continuously updated ML models, which can be integrated into any workflow to retrieve predictions of electronic, thermal and mechanical properties. These types of interconnected cloud-based applications have the potential to further accelerate the adoption of machine learning methods into materials development.\n",
    "\n",
    "\n",
    "### API structure\n",
    "\n",
    "\n",
    "The AFLOW-ML API is structured around a REpresentational State Transfer (REST) architecture, which allows resources to be accessed using HTTP request methods. Each resource is located at an **endpoint**, which is identified by a URL comprised of descriptive nouns.\n",
    "\n",
    "\n",
    "Resources within the API are represented in JavaScript Object Notation (JSON), and are referred to as **objects**. Once at an endpoint, the user must specify how to interact with the object. This is referred to as an **action**, and is an HTTP request method. The API supports the two most common HTTP request methods, ```GET``` and ```POST```, where ```GET``` fetches an object and ```POST``` sends user defined data to the server. Therefore, users interact with the API by performing actions (```GET```, ```POST```) on endpoints (URLs) to retrieve objects (resources).\n",
    "\n",
    "#### Endpoints\n",
    "\n",
    "All endpoints are located at the base URL http://aflow.org/API/aflow-ml/v1.0/ and are organized by the model and the returned object.\n",
    "\n",
    "| Action | Endpoint               |        Object          |\n",
    "| ----  |:-----------------------:| ----------------------:|\n",
    "| POST  | /plmf/prediction        | Task                   |\n",
    "| POST  | /mfd/prediction         | Task                   |\n",
    "| GET   | /prediction/result/{id} |   Status or prediction |\n",
    "\n",
    "In general, API usage involves uploading a material structure to a POST endpoint, {model}/prediction, and retrieving a prediction object from a GET endpoint, /prediction/result/{id}, as shown in the flowchart below:\n",
    "\n",
    "![](./images/aflow-ml_workflow.png)\n",
    "\n",
    "```POST``` endpoints are responsible for the submission of a material structure for a prediction. In their request body, the file keyword is required. It must contain a string representation of the material’s crystal structure, in POSCAR 5 format.\n",
    "\n",
    "Upon receiving a request, the response body returns a **task object** containing information about the submitted structure, which has the following format:\n",
    "\n",
    "```JavaScript\n",
    "{\n",
    "     \"id\": String,\n",
    "     \"model\": String,\n",
    "     \"results_endpoint\": String\n",
    "}\n",
    "```\n",
    "\n",
    "When a material is posted to the API, a prediction task is created and added to a queue. Each task is assigned an identifier, the id keyword, used to fetch the prediction object at the endpoint referenced in the results_endpoint keyword. This endpoint, /prediction/result/{id}, supports the ```GET``` method and requires the id as a path parameter. Depending on the status of the prediction task, the response body returns a status object or prediction object. \n",
    "\n",
    "```JavaScript\n",
    "// status object \n",
    "{\n",
    "     \"status\": String,\n",
    "     \"description\": String\n",
    "}\n",
    "```\n",
    "\n",
    "Prediction objects are returned depending on the targeted model. Currently we support two models: molar fraction descriptor (mfd) and property-labeled materials fragments (plmf).\n",
    "\n",
    "### ML models\n",
    "\n",
    "#### property-labeled materials fragments (plmf)\n",
    "The plmf model represents each crystal structure as a colored graph, where the atomic vertices are decorated by the reference properties of the corresponding elemental species. Topological neighbors are determined using a Voronoi tessellation, and these nodes are connected to form the graph. The final feature vector for the ML model is obtained by partitioning the full graph into smaller subgraphs, termed fragments in analogy with the fragment-based descriptors used in cheminformatics. All plmf models are built with the Gradient Boosting Decision Tree (GBDT) method. Models for electronic and thermo-mechanical properties were trained on 26,674 and 2,829 materials entries from the AFLOW repository, respectively. All models are validated through Y-randomization (label scrambling) and fivefold cross validation, with coefficient of determination (r^2) values in excess of 0.9 for most quantities, while the mean average errors are 0.035 eV (electronic band gap), 8.68 GPa (bulk modulus), 10.6 GPa (shear modulus), 35.9 K (Debye temperature), 0.05 K_b/atom (heat capacity at constant pressure) and 0.04 K_b/atom (heat capacity at constant volume), and the root mean square errors are 0.51 eV (electronic band gap), 14.3 GPa (bulk modulus), 18.4 GPa (shear modulus), 57.0 K (Debye temperature), 0.09 K_b/atom (heat capacity at constant pressure) and 0.07 K_b/atom (heat capacity at constant volume). Further details on the model training and validation can be found here: https://www.nature.com/articles/ncomms15679\n",
    "\n",
    "\n",
    "The plmf prediction object has the following structure:\n",
    "\n",
    "```JavaScript\n",
    "// plmf prediction object \n",
    "{\n",
    "     \"status\": String,\n",
    "     \"description\": String,\n",
    "     \"model\": String,\n",
    "     \"citation\": String,\n",
    "     \"ml_egap_type\": String,\n",
    "     \"ml_egap\": Number,\n",
    "     \"ml_energy_per_atom\": Number,\n",
    "     \"ml_ael_bulk_modulus_vrh\": Number,\n",
    "     \"ml_ael_shear_modulus_vrh\": Number,\n",
    "     \"ml_agl_debye\": Number,\n",
    "     \"ml_agl_heat_capacity_Cp_300K\": Number,\n",
    "     \"ml_agl_heat_capacity_Cv_300K\": Number,\n",
    "     \"ml_agl_heat_capacity_Cp_300K_per_atom\": Number,\n",
    "     \"ml_agl_heat_capacity_Cv_300K_per_atom\": Number,\n",
    "     \"ml_agl_thermal_conductivity_300K\": Number,\n",
    "     \"ml_agl_thermal_expansion_300K\": Number\n",
    "}\n",
    "```\n",
    "\n",
    "#### molar fraction descriptor (mfd)\n",
    "The mfd model predicts the material properties based on the chemical formula only: the vector of descriptors has 87 components, each component being the mole fraction of element in the compound ( is H, is He, etc.). The model is built with nonlinear support vector machines and a radial basis function kernel. The model is trained using a data set of 292 randomly selected compounds of the ICSD for which the vibrational properties are computed with DFT calculations. Pearson and Spearman correlations for k-fold cross-validation () are in excess of 0.9 for all predicted properties, while the mean average errors are 13.2 meV/atom (vibrational free energy) and 0.037 meV/(atom K) (vibrational entropy) and the root mean square errors are 18.8 meV/atom (vibrational free energy) and 0.052 eV/(atom K) (vibrational entropy). Further details on the model training and validation can be found in here: https://pubs.acs.org/doi/abs/10.1021/acs.chemmater.7b00789\n",
    "\n",
    "The mfd prediction object takes the following structure:\n",
    "\n",
    "```JavaScript\n",
    "// mfd prediction object \n",
    "{\n",
    "     \"status\": String,\n",
    "     \"description\": String,\n",
    "     \"model\": String,\n",
    "     \"citation\": String,\n",
    "     \"ml_Cv\": Number,\n",
    "     \"ml_Fvib\": Number,\n",
    "     \"ml_Svib\": Number\n",
    "}\n",
    "```\n",
    "\n",
    "\n"
   ]
  },
  {
   "cell_type": "markdown",
   "metadata": {},
   "source": [
    "## Using the API\n",
    "\n",
    "The process to retrieve a prediction is as follows: First, the contents of a POSCAR 5 file (i.e. the geometry input file format for version 5 of VASP), titled test.poscar, are uploaded to the submission endpoint. This can be achieved by using an HTTP library such as Requests (Python), URLSession (iOS SDK), HttpURLConnection (Java), Fetch (JavaScript) or using a command line tool such as Wget or cURL.\n"
   ]
  },
  {
   "cell_type": "markdown",
   "metadata": {},
   "source": [
    "### cURL example\n",
    "\n",
    "For this example the UNIX utility cURL will be used. If cURL is not available on your machine, you can use the python example below. \n",
    "\n",
    "The contents of a POSCAR are posted to the submission endpoint as follows:"
   ]
  },
  {
   "cell_type": "code",
   "execution_count": null,
   "metadata": {},
   "outputs": [],
   "source": [
    "!curl http://aflow.org/API/aflow-ml/v1.0/plmf/prediction --data-urlencode file@test.poscar"
   ]
  },
  {
   "cell_type": "markdown",
   "metadata": {},
   "source": [
    "the ```--data-urlencode``` flag handles encoding the contents of the poscar named ```test.poscar``` found in the current directory. From the JSON response above we will use the task id to poll the results endpoint."
   ]
  },
  {
   "cell_type": "code",
   "execution_count": null,
   "metadata": {},
   "outputs": [],
   "source": [
    "!curl http://aflow.org/API/aflow-ml/v1.0/prediction/result/<insert_your_task_id_here>"
   ]
  },
  {
   "cell_type": "markdown",
   "metadata": {},
   "source": [
    "### Python example\n",
    "\n",
    "For this example the Python 3 Requests library will be used. \n",
    "\n",
    "The contents of a POSCAR are posted to the submission endpoint as follows:"
   ]
  },
  {
   "cell_type": "code",
   "execution_count": null,
   "metadata": {},
   "outputs": [],
   "source": [
    "#!/usr/bin/python3\n",
    "import json, sys, os\n",
    "from time import sleep\n",
    "from urllib.parse import urlencode\n",
    "from urllib.request import urlopen\n",
    "from urllib.request import Request\n",
    "from urllib.error import HTTPError\n",
    "\n",
    "SERVER=\"http://aflow.org\"\n",
    "API=\"/API/aflow-ml/v1.0\"\n",
    "MODEL=\"plmf\"\n",
    "\n",
    "poscar=open('test.poscar', 'r').read()\n",
    "encoded_data = urlencode({'file': poscar,}).encode('utf-8')\n",
    "\n",
    "url = SERVER + API + \"/\" + MODEL + \"/prediction\"\n",
    "request_task = Request(url, encoded_data)\n",
    "task = urlopen(request_task).read()\n",
    "task_json = json.loads(task.decode('utf-8'))\n",
    "results_endpoint = task_json[\"results_endpoint\"]\n",
    "results_url = SERVER + API + results_endpoint\n",
    "\n",
    "print(results_url)"
   ]
  },
  {
   "cell_type": "markdown",
   "metadata": {},
   "source": [
    "The prediction can be retrieved by pasting the results_url string provided into the <results_url> placeholder in the code below:"
   ]
  },
  {
   "cell_type": "code",
   "execution_count": null,
   "metadata": {},
   "outputs": [],
   "source": [
    "#!/usr/bin/python3\n",
    "import json, sys, os\n",
    "from time import sleep\n",
    "from urllib.parse import urlencode\n",
    "from urllib.request import urlopen\n",
    "from urllib.request import Request\n",
    "from urllib.error import HTTPError\n",
    "\n",
    "SERVER=\"http://aflow.org\"\n",
    "API=\"/API/aflow-ml/v1.0\"\n",
    "MODEL=\"plmf\"\n",
    "\n",
    "results_url = <results_url>\n",
    "\n",
    "request_results = Request(results_url)\n",
    "results = urlopen(request_results).read()\n",
    "results_json = json.loads(results)\n",
    "\n",
    "if results_json[\"status\"] == 'PENDING':\n",
    "    print(\"AFLOW-ML prediction pending\")\n",
    "elif results_json[\"status\"] == 'STARTED':\n",
    "    print(\"AFLOW-ML prediction started\")\n",
    "elif results_json[\"status\"] == 'FAILURE':\n",
    "    print(\"Error: AFLOW-ML prediction failure\")\n",
    "elif results_json[\"status\"] == 'SUCCESS':\n",
    "    print(\"AFLOW-ML successful prediction\")\n",
    "    print(results_json)"
   ]
  },
  {
   "cell_type": "markdown",
   "metadata": {},
   "source": [
    "The POSCAR submission and results retrieval steps can be combined into a single code as shown below:"
   ]
  },
  {
   "cell_type": "code",
   "execution_count": null,
   "metadata": {},
   "outputs": [],
   "source": [
    "#!/usr/bin/python3\n",
    "import json, sys, os\n",
    "from time import sleep\n",
    "from urllib.parse import urlencode\n",
    "from urllib.request import urlopen\n",
    "from urllib.request import Request\n",
    "from urllib.error import HTTPError\n",
    "\n",
    "SERVER=\"http://aflow.org\"\n",
    "API=\"/API/aflow-ml/v1.0\"\n",
    "MODEL=\"plmf\"\n",
    "\n",
    "poscar=open('test.poscar', 'r').read()\n",
    "encoded_data = urlencode({'file': poscar,}).encode('utf-8')\n",
    "\n",
    "url = SERVER + API + \"/\" + MODEL + \"/prediction\"\n",
    "request_task = Request(url, encoded_data)\n",
    "task = urlopen(request_task).read()\n",
    "task_json = json.loads(task.decode('utf-8'))\n",
    "results_endpoint = task_json[\"results_endpoint\"]\n",
    "results_url = SERVER + API + results_endpoint\n",
    "\n",
    "incomplete = True\n",
    "while incomplete:\n",
    "    request_results = Request(results_url)\n",
    "    results = urlopen(request_results).read()\n",
    "    results_json = json.loads(results)\n",
    "    if results_json[\"status\"] == 'PENDING':\n",
    "        sleep(10)\n",
    "        continue\n",
    "    elif results_json[\"status\"] == 'STARTED':\n",
    "        sleep(10)\n",
    "        continue\n",
    "    elif results_json[\"status\"] == 'FAILURE':\n",
    "        print(\"Error: AFLOW-ML prediction failure\")\n",
    "        incomplete = False\n",
    "    elif results_json[\"status\"] == 'SUCCESS':\n",
    "        print(\"AFLOW-ML successful prediction\")\n",
    "        print(results_json)\n",
    "        incomplete = False"
   ]
  },
  {
   "cell_type": "markdown",
   "metadata": {},
   "source": [
    "## Exercises\n",
    "\n",
    "1. Retrieve one of the POSCAR files that you generated during the AFLOW Prototypes tutorial. Convert to the VASP 5 POSCAR format if necessary, by adding an additional line with the list of elements in alphabetical order, right underneath the lattice vectors. For example, this VASP 4 format POSCAR:"
   ]
  },
  {
   "cell_type": "raw",
   "metadata": {},
   "source": [
    "MgO/AB_cF8_225_a_b.AB params=5.63931 SG=225 [ANRL doi: 10.1016/j.commatsci.2017.01.017 (part 1), doi: 10.1016/j.commatsci.2018.10.043 (part 2)]\n",
    "1.000000\n",
    "   0.00000000000000   2.81965500000000   2.81965500000000\n",
    "   2.81965500000000   0.00000000000000   2.81965500000000\n",
    "   2.81965500000000   2.81965500000000   0.00000000000000\n",
    "1 1 \n",
    "Direct(2) [A1B1] \n",
    "   0.00000000000000   0.00000000000000   0.00000000000000  Mg    \n",
    "   0.50000000000000   0.50000000000000   0.50000000000000  O     "
   ]
  },
  {
   "cell_type": "markdown",
   "metadata": {},
   "source": [
    "would become:"
   ]
  },
  {
   "cell_type": "raw",
   "metadata": {},
   "source": [
    "MgO/AB_cF8_225_a_b.AB params=5.63931 SG=225 [ANRL doi: 10.1016/j.commatsci.2017.01.017 (part 1), doi: 10.1016/j.commatsci.2018.10.043 (part 2)]\n",
    "1.000000\n",
    "   0.00000000000000   2.81965500000000   2.81965500000000\n",
    "   2.81965500000000   0.00000000000000   2.81965500000000\n",
    "   2.81965500000000   2.81965500000000   0.00000000000000\n",
    "Mg O\n",
    "1 1 \n",
    "Direct(2) [A1B1] \n",
    "   0.00000000000000   0.00000000000000   0.00000000000000  Mg    \n",
    "   0.50000000000000   0.50000000000000   0.50000000000000  O     "
   ]
  },
  {
   "cell_type": "markdown",
   "metadata": {},
   "source": [
    "Copy the submission/retrieval code into a new cell below, modify it to point to this new POSCAR, and run it to obtain the predictions for this material."
   ]
  },
  {
   "cell_type": "code",
   "execution_count": null,
   "metadata": {},
   "outputs": [],
   "source": []
  },
  {
   "cell_type": "markdown",
   "metadata": {},
   "source": [
    "2. Modify the submission/retrieval code to print out only the prediction for the bulk modulus, instead of the entire JSON file."
   ]
  },
  {
   "cell_type": "code",
   "execution_count": null,
   "metadata": {},
   "outputs": [],
   "source": []
  },
  {
   "cell_type": "markdown",
   "metadata": {},
   "source": [
    "3. Modify the submission/retrieval code to submit a prediction request for the mfd model instead of the plmf model."
   ]
  },
  {
   "cell_type": "code",
   "execution_count": null,
   "metadata": {},
   "outputs": [],
   "source": []
  },
  {
   "cell_type": "markdown",
   "metadata": {},
   "source": [
    "## AFLOW-ML Python Client\n",
    "\n",
    "AFLOW-ML is a python client for the AFLOW-ML API. It provides a clean interface which simplifies fetching predictions. Furthermore, this allows users a means for clean integration into existing codebases. \n",
    "\n",
    "In Addition, the module installs a command line interface (CLI), allowing for on the fly predictions -- no script required."
   ]
  },
  {
   "cell_type": "markdown",
   "metadata": {},
   "source": [
    "## Installation\n",
    "\n",
    "The Python client is built without any dependencies. To install, fetch the tar.gz file from http://aflow.org/src/aflow-ml/. Upon untarring, cd into the new directory and run the following command:\n",
    "\n",
    "```\n",
    "pip3 install .\n",
    "```\n",
    "\n",
    "This will install the AFLOW-ML client to your global Python installation. If you do not want to install it globally, you can also create a virtual environment. "
   ]
  },
  {
   "cell_type": "code",
   "execution_count": null,
   "metadata": {},
   "outputs": [],
   "source": [
    "from pprint import pprint\n",
    "from aflowml.client import AFLOWmlAPI\n",
    "\n",
    "with open('test.poscar', 'r') as input_file:\n",
    "    ml = AFLOWmlAPI()\n",
    "    data = ml.get_prediction(input_file.read(), 'plmf')\n",
    "    pprint(data)"
   ]
  },
  {
   "cell_type": "markdown",
   "metadata": {},
   "source": [
    "## CLI\n",
    "\n",
    "To install the CLI, the Python client must first be installed. The command below will install it from the notebook (assuming the contents of the library are in the same directory).\n",
    "\n",
    "If this is not the case open the terminal change to the AFLOW-ML client directory and run:\n",
    "\n",
    "```pip3 install .```"
   ]
  },
  {
   "cell_type": "markdown",
   "metadata": {},
   "source": [
    "### List of options"
   ]
  },
  {
   "cell_type": "code",
   "execution_count": null,
   "metadata": {},
   "outputs": [],
   "source": [
    "!aflow-ml -h"
   ]
  },
  {
   "cell_type": "markdown",
   "metadata": {},
   "source": [
    "### Fetching a prediction"
   ]
  },
  {
   "cell_type": "code",
   "execution_count": null,
   "metadata": {},
   "outputs": [],
   "source": [
    "!aflow-ml test.poscar -m plmf"
   ]
  },
  {
   "cell_type": "markdown",
   "metadata": {},
   "source": [
    "### Specifying what fields to show"
   ]
  },
  {
   "cell_type": "code",
   "execution_count": null,
   "metadata": {},
   "outputs": [],
   "source": [
    "!aflow-ml test.poscar -m plmf --fields=ml_egap,ml_egap_type"
   ]
  },
  {
   "cell_type": "markdown",
   "metadata": {},
   "source": [
    "### Saving output\n",
    "Saving is done via the ```-s``` flag. By default it will save as a text file named ```prediction.txt```. The ```-v``` is added to enable verbose mode."
   ]
  },
  {
   "cell_type": "code",
   "execution_count": null,
   "metadata": {},
   "outputs": [],
   "source": [
    "!aflow-ml test.poscar -m plmf -s -v"
   ]
  },
  {
   "cell_type": "code",
   "execution_count": null,
   "metadata": {},
   "outputs": [],
   "source": [
    "!cat prediction.txt"
   ]
  },
  {
   "cell_type": "markdown",
   "metadata": {},
   "source": [
    "### Saving to a JSON\n",
    "\n",
    "Here we will save the output to a JSON file via the ```--format``` argument and specify the filename using the ```--outfile``` argument."
   ]
  },
  {
   "cell_type": "code",
   "execution_count": null,
   "metadata": {},
   "outputs": [],
   "source": [
    "!aflow-ml test.poscar -m plmf -s -v --format=json --outfile=test.json"
   ]
  },
  {
   "cell_type": "code",
   "execution_count": null,
   "metadata": {},
   "outputs": [],
   "source": [
    "\"\"\"\n",
    "Quick script to pretty print the JSON.\n",
    "\"\"\"\n",
    "import json\n",
    "from pprint import pprint\n",
    "\n",
    "with open('test.json', 'r') as json_pred:\n",
    "    content = json.load(json_pred)\n",
    "    pprint(content)"
   ]
  },
  {
   "cell_type": "markdown",
   "metadata": {},
   "source": [
    "## Exercise\n",
    "\n",
    "In this example we will predict the shear and bulk moduli for MoTi systems using the AFLOW-ML API and the AFLOW data API.\n",
    "\n",
    "\n",
    "Using the AFLOW REST API fetch the poscars and auid for MoTi and save them to a file called ```entries_data.json```."
   ]
  },
  {
   "cell_type": "code",
   "execution_count": null,
   "metadata": {},
   "outputs": [],
   "source": [
    "import json\n",
    "from urllib.request import urlopen\n",
    "from urllib.request import Request\n",
    "\n",
    "BASE_URL = 'http://aflowlib.duke.edu/AFLOWDATA/LIB2_RAW/Mo_pvTi_sv'\n",
    "\n",
    "\"\"\"\n",
    "    Your code here\n",
    "\"\"\""
   ]
  },
  {
   "cell_type": "markdown",
   "metadata": {},
   "source": [
    "Now using the resultant json file ```entries_data.json``` write a script to use the AFLOW-ML client to fetch predictions, save them to an array and print the output.\n",
    "\n",
    "**Some helpful things:**\n",
    "\n",
    "You will want to import the json module. In addition, the pretty print module will also be handy to print the results.\n",
    "\n",
    "```python\n",
    "import json\n",
    "from pprint import pprint\n",
    "```\n",
    "\n",
    "In case you forgot or are new to Python the way to open a file is as follows:\n",
    "\n",
    "```python\n",
    "with open('file_path', 'r') as my_file:\n",
    "    # logic to handle files here\n",
    "```\n",
    "\n",
    "Here ```my_file``` is the file handler you can use in the with statement to access it's contents. The ```'r'``` stands for read while other options include ```'w'``` for write and ```'a'``` for append."
   ]
  },
  {
   "cell_type": "code",
   "execution_count": null,
   "metadata": {},
   "outputs": [],
   "source": [
    "import json\n",
    "from pprint import pprint\n",
    "from aflowml.client import AFLOWmlAPI\n",
    "\n",
    "with open('entries_data.json', 'r') as json_file:\n",
    "    entries_data = json.load(json_file)\n",
    "    \"\"\"\n",
    "        Your code here\n",
    "    \"\"\"\n"
   ]
  }
 ],
 "metadata": {
  "kernelspec": {
   "display_name": "Python 3",
   "language": "python",
   "name": "python3"
  },
  "language_info": {
   "codemirror_mode": {
    "name": "ipython",
    "version": 3
   },
   "file_extension": ".py",
   "mimetype": "text/x-python",
   "name": "python",
   "nbconvert_exporter": "python",
   "pygments_lexer": "ipython3",
   "version": "3.7.4"
  }
 },
 "nbformat": 4,
 "nbformat_minor": 2
}
