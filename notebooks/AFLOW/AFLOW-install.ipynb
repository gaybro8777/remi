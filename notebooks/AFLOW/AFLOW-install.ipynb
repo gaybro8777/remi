{
 "cells": [
  {
   "cell_type": "markdown",
   "metadata": {},
   "source": [
    "# Getting Started"
   ]
  },
  {
   "cell_type": "markdown",
   "metadata": {},
   "source": [
    "## Prerequisites"
   ]
  },
  {
   "cell_type": "markdown",
   "metadata": {},
   "source": [
    "### Required Packages for AFLOW\n",
    "\n",
    "AFLOW requires the following commands to be in the path:\n",
    "\n",
    "* `gcc` (Linux) or `clang++` (Mac)\n",
    "* `make`\n",
    "* `perl`\n",
    "* `wget`\n",
    "* `xz`\n",
    "\n",
    "The packages that contain these commands need to be installed before installing AFLOW. On a Mac, `xcode` needs to be installed as well (available in the app store).\n",
    "\n",
    "For this workshop, `curl` and `python3` are also needed. They are not required for AFLOW to function though.\n",
    "\n",
    "While not required for the workshop, the following packages are needed for full AFLOW functionality:\n",
    "\n",
    "* `convert` (part of `imagemagick`)\n",
    "* `gnuplot`\n",
    "* `gs` (GhostScript)\n",
    "* `pdflatex` (part of `texlive`)\n",
    "\n",
    "To test whether a package in needed, open a terminal and use the command `which package` (replace \"package\" with the desired package). If the output is empty, the command is not available."
   ]
  },
  {
   "cell_type": "markdown",
   "metadata": {},
   "source": [
    "### Installing Missing Packages on Mac\n",
    "\n",
    "The following section describes how to install missing packages using the package manager `homebrew`. To install `homebrew`, open a terminal and execute the following command:\n",
    "\n",
    "`/usr/bin/ruby -e \"$(curl -fsSL https://raw.githubusercontent.com/Homebrew/install/master/install)\"`\n",
    "\n",
    "To install a missing package, use the command `brew install package` (replace \"package\" with the desired package)."
   ]
  },
  {
   "cell_type": "markdown",
   "metadata": {},
   "source": [
    "### Preparing the AFLOW Installation on Windows\n",
    "\n",
    "AFLOW does not natively run on Windows. However, it is possible to run AFLOW on a Windows machine using emulators.\n",
    "\n",
    "#### Ubuntu for Windows (Windows 10)\n",
    "\n",
    "1. Install `Ubuntu for Windows` from the Microsoft Store and open it.\n",
    "2. After the initial setup, run `sudo apt-get update`.\n",
    "3. Then use `sudo apt-get install g++ make` to install the required packages. The other packages from the list above should already be installed.\n",
    "4. Open `/etc/ImageMagick-6/policy.xml` and find the line `<policy domain=“coder” rights=“none” pattern=“PS” />`. Replace \"none\" with \"read|write\".\n",
    "5. For this workshop, also install `python3-pip`. Python3 should already be installed.\n",
    "6. While not required for the workshop, the following command should be run for full AFLOW functionality: `sudo apt-get install gnuplot imagemagick texlive`\n",
    "\n",
    "#### Cygwin (Windows 7+)\n",
    "\n",
    "1. Download Cygwin: https://cygwin.com/install.html\n",
    "2. Run the installer until you get to the \"Select Packages\" screen.\n",
    "3. Select the following packages and click \"Next\" to install\n",
    "     * `curl`\n",
    "     * `gcc-g++`\n",
    "     * `make`\n",
    "     * `perl`\n",
    "     * `wget`\n",
    "4. Also install a text editor such as `vim`, `emacs`, or `nano`.\n",
    "5. To install jupyter, the following packages are needed:\n",
    "     * `python3`\n",
    "     * `python3-devel`\n",
    "     * `python36-numpy`\n",
    "     * `python36-pip`\n",
    "     * `python3-zmq`\n",
    "6. While not required for the workshop, the following packages are needed for full AFLOW functionality:\n",
    "     * `ghostscript`\n",
    "     * `gnuplot`\n",
    "     * `imagemagick`\n",
    "     * `texlive`\n",
    "\n",
    "**Warning**: Installing jupyter inside a virtual environment may not work with Cygwin."
   ]
  },
  {
   "cell_type": "markdown",
   "metadata": {},
   "source": [
    "### Required Python Packages\n",
    "\n",
    "The following packages are required for the exercises in this workshop:\n",
    "\n",
    "* attrs>=18.2.0\n",
    "* certifi>=2018.11.29\n",
    "* chardet>=3.0.4\n",
    "* decorator>=4.3.2\n",
    "* idna>=2.8\n",
    "* ipython-genutils>=0.2.0\n",
    "* jsonschema>=3.0.0\n",
    "* jupyter>=1.0\n",
    "* nbformat>=4.4.0\n",
    "* numpy>=1.16.2\n",
    "* plotly>=3.6.1\n",
    "* pyrsistent>=0.14.11\n",
    "* pytz>=2018.9\n",
    "* requests>=2.21.0\n",
    "* retrying>=1.3.3\n",
    "* six>=1.12.0\n",
    "* traitlets>=4.3.2\n",
    "* urllib3>=1.24.1\n",
    "\n",
    "These packages will be installed automatically with this notebook."
   ]
  },
  {
   "cell_type": "markdown",
   "metadata": {},
   "source": [
    "## Installing AFLOW"
   ]
  },
  {
   "cell_type": "markdown",
   "metadata": {},
   "source": [
    "Installing AFLOW is fully automatized and should not require user intervention. The setup will download a script called `xaflow` which downloads and compiles the newest AFLOW version automatically.\n",
    "\n",
    "To change the location of the xaflow script and the AFLOW binary, set the variable `USER_ULB` to the desired path (default: \"~/bin/\")."
   ]
  },
  {
   "cell_type": "code",
   "execution_count": null,
   "metadata": {},
   "outputs": [],
   "source": [
    "USER_ULB = \"\""
   ]
  },
  {
   "cell_type": "markdown",
   "metadata": {},
   "source": [
    "To change the location of the source code, set the variable `USER_AWD` to the desired path (default: \"~/src/AFLOW/\"):"
   ]
  },
  {
   "cell_type": "code",
   "execution_count": null,
   "metadata": {},
   "outputs": [],
   "source": [
    "USER_AWD = \"\""
   ]
  },
  {
   "cell_type": "markdown",
   "metadata": {},
   "source": [
    "If all prerequisites are fulfilled, run this jupyter notebook. AFLOW should compile and install automatically. The shell and jupyter may need to be restarted for these changes to take effect."
   ]
  },
  {
   "cell_type": "markdown",
   "metadata": {},
   "source": [
    "### Code\n",
    "\n",
    "The following is the code that is executed to install AFLOW and can be safely ignored."
   ]
  },
  {
   "cell_type": "code",
   "execution_count": null,
   "metadata": {},
   "outputs": [],
   "source": [
    "# Replace ~ with the full path of the home directory\n",
    "import os\n",
    "\n",
    "if '~' in USER_AWD:\n",
    "    USER_AWD = USER_AWD.replace('~', os.path.expanduser('~'))\n",
    "if USER_AWD and USER_AWD[-1] != '/':\n",
    "    USER_AWD += '/'\n",
    "    \n",
    "if '~' in USER_ULB:\n",
    "    USER_ULB = USER_ULB.replace('~', os.path.expanduser('~'))\n",
    "if USER_ULB and USER_ULB[-1] != '/':\n",
    "    USER_ULB += '/'\n",
    "\n",
    "# Set default ULB for xaflow\n",
    "DEFAULT_ULB = os.path.expanduser('~') + '/bin/'"
   ]
  },
  {
   "cell_type": "code",
   "execution_count": null,
   "metadata": {},
   "outputs": [],
   "source": [
    "# Check whether the current operating system is supported\n",
    "def checkOS():\n",
    "    supported_platforms = ['linux', 'linux2', 'darwin', 'cygwin']\n",
    "    import sys\n",
    "    platform = sys.platform\n",
    "    if platform not in supported_platforms:\n",
    "        message = \"Operating system \" + platform + \" not supported.\"\n",
    "        if (platform == 'win32'):\n",
    "            message += \" Please use Ubuntu for Windows (Windows 10) or cygwin (Windows 8 or older).\"\n",
    "        raise RuntimeError(message)"
   ]
  },
  {
   "cell_type": "code",
   "execution_count": null,
   "metadata": {},
   "outputs": [],
   "source": [
    "# Check whether all required commands are available\n",
    "def checkRequiredPackages():\n",
    "    import sys\n",
    "    required_packages = ['convert', 'curl', 'make', 'perl', 'pip3', 'python', 'wget', 'xz']\n",
    "    #                     'gnuplot', 'gs','pdflatex']\n",
    "    \n",
    "    # Mac requires clang++, linux gcc\n",
    "    if (sys.platform == 'darwin'):\n",
    "        required_packages.append('clang++')\n",
    "    else:\n",
    "        required_packages.append('gcc')\n",
    "    missing_packages = []\n",
    "    \n",
    "    for package in required_packages:\n",
    "        cmd = !which $package\n",
    "        if not cmd:\n",
    "            missing_packages.append(package)\n",
    "        \n",
    "    if len(missing_packages) > 0:\n",
    "        message = \"Could not find the following commands: \" + \", \".join(missing_packages) + \\\n",
    "                   \". Please install the required packages.\"\n",
    "        raise RuntimeError(message)"
   ]
  },
  {
   "cell_type": "code",
   "execution_count": null,
   "metadata": {},
   "outputs": [],
   "source": [
    "# Download the xaflow script\n",
    "def downloadXAflow():\n",
    "    import os, sys\n",
    "    try:\n",
    "        import urllib.request as urlrequest\n",
    "    except ImportError:\n",
    "        import urllib as urlrequest\n",
    "    \n",
    "    # Create directory if neeeded\n",
    "    ULB = USER_ULB\n",
    "    if not ULB:\n",
    "        ULB = DEFAULT_ULB\n",
    "    if not os.path.isdir(ULB):\n",
    "        os.mkdir(ULB)\n",
    "        if not os.path.isdir(ULB):\n",
    "            raise IOError(\"Could not create directory \" + ULB + \".\")\n",
    "\n",
    "    # Add ULB to path\n",
    "    pathvar = os.environ.get('PATH')\n",
    "    if pathvar is not None:\n",
    "        path = pathvar.split(':')\n",
    "    else:\n",
    "        path = []\n",
    "    if ULB not in path:\n",
    "        os.environ['PATH'] = ULB + \":\" + os.environ['PATH']\n",
    "    \n",
    "    # Add to .bashrc if needed\n",
    "    bashrc = os.path.expanduser('~')\n",
    "    if (sys.platform == 'darwin'):\n",
    "        bashrc += '/.bash_profile'\n",
    "    else:\n",
    "        bashrc += '/.bashrc'\n",
    "    found = False\n",
    "    export_string = \"export PATH=\" + ULB + \":$PATH\"\n",
    "    with open(bashrc, 'rt') as f:\n",
    "        if export_string in f.read():\n",
    "            found = True\n",
    "    if not found:\n",
    "        !echo \"export PATH=$ULB:\\$$PATH\" >> $bashrc\n",
    "    \n",
    "    # Download and make executable\n",
    "    xaflow = ULB + 'xaflow'\n",
    "    if os.path.exists(xaflow):\n",
    "        os.remove(xaflow)\n",
    "    urlrequest.urlretrieve('http://materials.duke.edu/AFLOW/xaflow', xaflow)\n",
    "    os.chmod(xaflow, 0o555)\n",
    "    \n",
    "    # Check\n",
    "    cmd = !which xaflow\n",
    "    if not cmd:\n",
    "        message = \"Could not find command xaflow. Please make sure that the file is present and executable.\"\n",
    "        raise RuntimeError(message)"
   ]
  },
  {
   "cell_type": "code",
   "execution_count": null,
   "metadata": {},
   "outputs": [],
   "source": [
    "# Compiles and installs AFLOW\n",
    "def installAflow():\n",
    "    if USER_AWD:\n",
    "        !xaflow AWD=$USER_AWD\n",
    "    else:\n",
    "        !xaflow\n",
    "    if USER_ULB:\n",
    "        !xaflow install ULB=$USER_ULB\n",
    "    else:\n",
    "        !xaflow install\n",
    "        \n",
    "    cmd = !which aflow\n",
    "    if not cmd:\n",
    "        message = \"Could not find command aflow. Installation unsuccessful.\"\n",
    "        raise RuntimeError(message)"
   ]
  },
  {
   "cell_type": "code",
   "execution_count": null,
   "metadata": {},
   "outputs": [],
   "source": [
    "def installPythonPackages():\n",
    "    !pip3 install -r requirements.txt"
   ]
  },
  {
   "cell_type": "code",
   "execution_count": null,
   "metadata": {
    "scrolled": true
   },
   "outputs": [],
   "source": [
    "checkOS()\n",
    "checkRequiredPackages()\n",
    "installPythonPackages()\n",
    "downloadXAflow()\n",
    "installAflow()"
   ]
  }
 ],
 "metadata": {
  "kernelspec": {
   "display_name": "Python 3",
   "language": "python",
   "name": "python3"
  },
  "language_info": {
   "codemirror_mode": {
    "name": "ipython",
    "version": 3
   },
   "file_extension": ".py",
   "mimetype": "text/x-python",
   "name": "python",
   "nbconvert_exporter": "python",
   "pygments_lexer": "ipython3",
   "version": "3.7.4"
  }
 },
 "nbformat": 4,
 "nbformat_minor": 2
}
